{
 "cells": [
  {
   "cell_type": "markdown",
   "metadata": {},
   "source": [
    "# Epsilon measurements on numerical datasets"
   ]
  },
  {
   "cell_type": "markdown",
   "metadata": {},
   "source": [
    "The most important aspect when applying Differential Privacy to a dataset, is the selection of epsilon. This number is held accountable of the tradeoff that DP offers: how much accuracy are we going to sacrifice in order to have less privacy loss, and vice vera."
   ]
  },
  {
   "cell_type": "markdown",
   "metadata": {},
   "source": [
    "Epsilon is the most important aspect in the definition of DP. Let's revise the definition of Differential Privacy.\n",
    "\n",
    "\n",
    "A randomized algorithm M with\n",
    "domain $N^X$ is ($\\epsilon,\\delta)$-differentially private if for all $S \\subseteq Range(M)$ and\n",
    "for all $x, y \\in N^X s.t. ||x - y||_1 \\leq 1:$\n",
    "\n",
    "$$ Pr[M(x) \\in S] \\leq e^\\epsilon Pr[M(y) \\in S] + \\delta$$"
   ]
  },
  {
   "cell_type": "markdown",
   "metadata": {},
   "source": [
    "Given the IBM DP library, and given the previously known dataset of surgeries in the US, we are going to measure the accuracy changes with the selection of different epsilon values. We are going to apply these measurements in different queries, thus we can have a better picture on how accurate is the application of DP in the IBM diffprivlib"
   ]
  },
  {
   "cell_type": "markdown",
   "metadata": {},
   "source": [
    "## Dataset and Preprocessing"
   ]
  },
  {
   "cell_type": "markdown",
   "metadata": {},
   "source": [
    "The identity of the dataset is analysed in a previous notebook, and is therefor taken for granted here. Moreover, the preprocessing of the dataset and the definition of privacy bounds (alongside with its problems), are also analysed in the basic queries ipynb, thus we are just going to do only what is neccesary here for our testings."
   ]
  },
  {
   "cell_type": "markdown",
   "metadata": {},
   "source": [
    "### Import libraries"
   ]
  },
  {
   "cell_type": "code",
   "execution_count": 1,
   "metadata": {},
   "outputs": [],
   "source": [
    "import pandas as pd\n",
    "import diffprivlib as dp\n",
    "import numpy as np\n",
    "import matplotlib.pyplot as plt\n",
    "import random"
   ]
  },
  {
   "cell_type": "markdown",
   "metadata": {},
   "source": [
    "### Load and preprocess the dataset"
   ]
  },
  {
   "cell_type": "code",
   "execution_count": 2,
   "metadata": {},
   "outputs": [],
   "source": [
    "DATASET = \"./surgeries.csv\"\n",
    "df = pd.read_csv(DATASET)\n",
    "# remove the $ sign from the payments\n",
    "df[df.columns[4:5]] = df[df.columns[4:5]].replace('[\\$,]', '', regex=True).astype(float)\n",
    "df[df.columns[5:6]] = df[df.columns[5:6]].replace('[\\$,]', '', regex=True).astype(float)"
   ]
  },
  {
   "cell_type": "markdown",
   "metadata": {},
   "source": [
    "### Bounds' definition"
   ]
  },
  {
   "cell_type": "markdown",
   "metadata": {},
   "source": [
    "As explained in the previous notebook, we can only guess the values of the bounds that we are going to pass to the DP queries, because if we just take the tuple of the highest and lowest values in the dataset, we violate the definition of differential privacy"
   ]
  },
  {
   "cell_type": "code",
   "execution_count": 3,
   "metadata": {},
   "outputs": [],
   "source": [
    "total_payment_range = medicare_payment_range = (0, 1000000)"
   ]
  },
  {
   "cell_type": "markdown",
   "metadata": {},
   "source": [
    "## Accuracy testings"
   ]
  },
  {
   "cell_type": "markdown",
   "metadata": {},
   "source": [
    "Once again, we are going to base our accuracy testings in the following function. It applies the given query multiple times, in order to ensure the lack of extreme DP calculations (rare) which may appear due to the probabilistic distributions used.\n",
    "\n",
    "This time, it is very important to see the accuracy changes based on a similar scale for all datasets and sizes. The way to do that, is to compute the relative error of accuracy, defined in the following function. The function below applies the given query multiple times, in order to ensure the lack of extreme DP calculations (rare) which may appear due to the probabilistic distributions used. "
   ]
  },
  {
   "cell_type": "code",
   "execution_count": 4,
   "metadata": {},
   "outputs": [],
   "source": [
    "def accuracy_error(non_dp_query, dp_query, bounds, dataset, epsilon = 1):\n",
    "    # list of the error in every loop\n",
    "    acc = []\n",
    "    # result without dp. No need to re-compute in every loop\n",
    "    res_wo_dp = non_dp_query(dataset)\n",
    "    # run 100 times\n",
    "    for i in range(0,100):\n",
    "        # result with dp. subject to change in every loop\n",
    "        res_with_dp = dp_query(dataset, bounds = bounds, epsilon = epsilon)\n",
    "        # absolute error of the 2 computations\n",
    "        diff = abs(res_wo_dp - res_with_dp)\n",
    "        # append the error in the error list\n",
    "        acc.append(diff)\n",
    "    # return the mean error of our computations\n",
    "    return np.mean(acc)"
   ]
  },
  {
   "cell_type": "markdown",
   "metadata": {},
   "source": [
    "## Theoretical bounds of accuracy given the LaPlace mechanism as a function of epsilon"
   ]
  },
  {
   "cell_type": "markdown",
   "metadata": {},
   "source": [
    "In theory, the accuracy of an $\\epsilon$-differential private query, can be at most equal to the sensitivity of the query divided by epsilon, thus $$\\frac{\\Delta f}{\\epsilon}$$ where $\\Delta f$ denotes the sensitivity, and $\\epsilon$ is our current privacy setting. \n",
    "\n",
    "There sensitivity is defined as the maximum difference that can be found if we alter a single entry in the dataset. We can define 2 types of sensitivity:\n",
    "\n",
    "- __Local Sensitivity__ which in theory is $ \\Delta f = max_{||x-y||_1 = 1} ||f(x)-f(y)||_1$ \n",
    "- __GLobal Sensitivity__ which we are going to use in our testings, and is defined as: $ \\Delta f = \\frac{upper - lower}{length(DB)} $, where upper and lower are the highest and lowest values of the column we are interested in our dataset, and length is the size of the database\n",
    "\n",
    "\n",
    "A handy way to compute the local sensitivity is given above, but for our testings we are going to use the definition of the global sensitivity."
   ]
  },
  {
   "cell_type": "markdown",
   "metadata": {},
   "source": [
    "In order to compute the local sensitivity, we must check the maximum difference in the query result that occurs if we remove a single person from the database. We are going to define a function to do so, so we can check the theoretical bounds during our tests."
   ]
  },
  {
   "cell_type": "code",
   "execution_count": 5,
   "metadata": {},
   "outputs": [],
   "source": [
    "#compute the sensiticity of a query in a given dataset\n",
    "def sensitivity(query, df, column):\n",
    "    # only choose a small portion of the dataset to check\n",
    "    size = df[column].count() // 100\n",
    "    # keep a list of the sensitivities\n",
    "    senses = []\n",
    "    for i in range(0,size):\n",
    "        # get a random element of the dataset\n",
    "        rand_index = random.randint(0,size)\n",
    "        # run the query in the dataset\n",
    "        f_x = query(df[column])\n",
    "        # remove the selected element from the dataset\n",
    "        new_df = df.drop(df.index[rand_index])\n",
    "        # and reun the query again\n",
    "        f_y = query(new_df[column])\n",
    "        # define the sensitivity and append it to the list\n",
    "        res = abs(f_x - f_y)\n",
    "        senses.insert(0,res)\n",
    "    # the result that we want is the max of the sensitivities computed\n",
    "    return max(senses)"
   ]
  },
  {
   "cell_type": "markdown",
   "metadata": {},
   "source": [
    "The size of the dataset is too big, and thus the computation of the sensitivity will take too long. We assume that the data are somewhat equally distributed, thus we chose only 1% of the dataset(which is a significant number of members), to take part in our sensitivity calculations"
   ]
  },
  {
   "cell_type": "code",
   "execution_count": 6,
   "metadata": {},
   "outputs": [
    {
     "name": "stdout",
     "output_type": "stream",
     "text": [
      "2.0117939820920583\n"
     ]
    }
   ],
   "source": [
    "local_sens = sensitivity(np.mean, df, \"Average Total Payments\")\n",
    "print(local_sens)"
   ]
  },
  {
   "cell_type": "markdown",
   "metadata": {},
   "source": [
    "## Accuracy measurements using different values of epsilon"
   ]
  },
  {
   "cell_type": "markdown",
   "metadata": {},
   "source": [
    "Differential Privacy is all about a trade-off: We want to balance our privacy loss with the accuracy of the results. Below, we are going to examine the behavior of the accuracy error when we increase the epsilon value."
   ]
  },
  {
   "cell_type": "markdown",
   "metadata": {},
   "source": [
    "First up, we are going to test this measurement by applying a mean value query. "
   ]
  },
  {
   "cell_type": "code",
   "execution_count": 7,
   "metadata": {},
   "outputs": [],
   "source": [
    "# epsilon values we are going to run the query with\n",
    "epsilon = [i/10 + 0.2 for i in range (0,50)]\n",
    "# list of the accuracy results, empty in the beggining\n",
    "results = []\n",
    "\n",
    "# loop through different epsilons\n",
    "for e in epsilon:\n",
    "    res = accuracy_error(np.mean, dp.tools.mean, total_payment_range, df['Average Total Payments'].tolist(), epsilon = e)\n",
    "    results.append(res)"
   ]
  },
  {
   "cell_type": "markdown",
   "metadata": {},
   "source": [
    "We want to compare our results with the theoretical best behavior, thus we are going to define a new function, using the sensitivity of the mean query"
   ]
  },
  {
   "cell_type": "code",
   "execution_count": 8,
   "metadata": {},
   "outputs": [
    {
     "data": {
      "image/png": "[encoded data removed]",
      "text/plain": [
       "<Figure size 864x576 with 1 Axes>"
      ]
     },
     "metadata": {
      "needs_background": "light"
     },
     "output_type": "display_data"
    }
   ],
   "source": [
    "# define the best possible accuracy error pf the laplace mechanism\n",
    "# we are going to use the definition of the global sensitivity as discussed above\n",
    "sens = (total_payment_range[1] - total_payment_range[0]) / len(df)\n",
    "\n",
    "theoretical_best = [sens / e for e in epsilon]\n",
    "\n",
    "# plot the result \n",
    "plt.figure(figsize = (12,8))\n",
    "\n",
    "plt.plot(epsilon, results, label='Real accuracy error')\n",
    "plt.plot(epsilon, theoretical_best, label=\"Theoretical best accuracy error\")\n",
    "\n",
    "plt.legend(loc='best')\n",
    "\n",
    "plt.xlabel('Epsilon')\n",
    "plt.ylabel('Accuracy Error')\n",
    "plt.show()"
   ]
  },
  {
   "cell_type": "markdown",
   "metadata": {},
   "source": [
    "### Observations regarding the DP query"
   ]
  },
  {
   "cell_type": "markdown",
   "metadata": {},
   "source": [
    "It is clear that as we increase the epsilon value, the privacy loss gets bigger. On the other hand, if epsilon is too small, as we can see in the above plot, we are going to have extreme errors in accuracy in our queries. \n",
    "\n",
    "The optimal value of epsilon varies, there is no general rule for the perfect epsilon. It depends on many different aspects, such as:\n",
    "\n",
    "- The noise generated by the probabilistic mechanism used\n",
    "- The implementation of the algorithm\n",
    "- The size of the dataset\n",
    "- The query itself.\n",
    "\n",
    "Moreover, the selection of epsilon depends on the dataset. For example, we might have a dataset that is extremely important to have minimal privacy loss. In that case, we will opt to use a rather small epsilon, thus we do not disclose the sensitive data included. An other dataset could be less sensitive, but the analyst might have a need for extreme accuracy every time, so the epsilon selected should be rather big."
   ]
  },
  {
   "cell_type": "markdown",
   "metadata": {},
   "source": [
    "### Observations regarding the LaPlace bounds"
   ]
  },
  {
   "cell_type": "markdown",
   "metadata": {},
   "source": [
    "As we can see, the library's query performs significantly good throughout the different epsilon values selected. This is due to the fact that IBM uses the same formula to compute the sensitivity, as well as a similar mechanism (LaPlace truncated noise), in order to answer to our queries."
   ]
  }
 ],
 "metadata": {
  "kernelspec": {
   "display_name": "Python 3",
   "language": "python",
   "name": "python3"
  },
  "language_info": {
   "codemirror_mode": {
    "name": "ipython",
    "version": 3
   },
   "file_extension": ".py",
   "mimetype": "text/x-python",
   "name": "python",
   "nbconvert_exporter": "python",
   "pygments_lexer": "ipython3",
   "version": "3.8.5"
  }
 },
 "nbformat": 4,
 "nbformat_minor": 4
}
