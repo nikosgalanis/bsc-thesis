{
 "cells": [
  {
   "cell_type": "markdown",
   "metadata": {},
   "source": [
    "# Histograms on numerical datasets"
   ]
  },
  {
   "cell_type": "markdown",
   "metadata": {},
   "source": [
    "Histogram graphs are a very handy way to visualize numerical data, compare different values of a specific field, and thus extract conclusions about the dataset. We are going to study the `diffprivlib`'s method of creating an histogram, and its accuracy when changing the epsilon factor.\n",
    "\n",
    "The IBM DP library offers a differential private way to create histograms. The difference with the simple queries that we tested, is that now, __geometric truncated__ noise is added in order to satisfy DP."
   ]
  },
  {
   "cell_type": "markdown",
   "metadata": {},
   "source": [
    "## The identity of the dataset: Employee salaries"
   ]
  },
  {
   "cell_type": "markdown",
   "metadata": {},
   "source": [
    "The dataset contains sensitive data regarding employee's salaries in the state of Baltimore, while stating other facts about the members of the dataset. \n",
    "\n",
    "The columns contained are: \n",
    " - __Name__\n",
    " - __Job Title__\n",
    " - __ID__\n",
    " - __Job description__\n",
    " - __Hire date__\n",
    " - __Annual earnings__\n",
    " - __Gross earnings__"
   ]
  },
  {
   "cell_type": "markdown",
   "metadata": {},
   "source": [
    "## Import libraries"
   ]
  },
  {
   "cell_type": "code",
   "execution_count": 1,
   "metadata": {},
   "outputs": [],
   "source": [
    "import pandas as pd\n",
    "import diffprivlib as dp\n",
    "import numpy as np\n",
    "import math\n",
    "import matplotlib.pyplot as plt"
   ]
  },
  {
   "cell_type": "markdown",
   "metadata": {},
   "source": [
    "## Load the dataset"
   ]
  },
  {
   "cell_type": "code",
   "execution_count": 2,
   "metadata": {},
   "outputs": [],
   "source": [
    "DATASET = \"./complete_salaries.csv\"\n",
    "df = pd.read_csv(DATASET)"
   ]
  },
  {
   "cell_type": "markdown",
   "metadata": {},
   "source": [
    "Let's take a look at the dataset info to see if everything is alright."
   ]
  },
  {
   "cell_type": "code",
   "execution_count": 3,
   "metadata": {},
   "outputs": [
    {
     "name": "stdout",
     "output_type": "stream",
     "text": [
      "<class 'pandas.core.frame.DataFrame'>\n",
      "RangeIndex: 13811 entries, 0 to 13810\n",
      "Data columns (total 7 columns):\n",
      " #   Column     Non-Null Count  Dtype  \n",
      "---  ------     --------------  -----  \n",
      " 0   NAME       13811 non-null  object \n",
      " 1   JOBTITLE   13811 non-null  object \n",
      " 2   DEPTID     13811 non-null  object \n",
      " 3   DESCR      13811 non-null  object \n",
      " 4   HIRE_DT    13807 non-null  object \n",
      " 5   ANNUAL_RT  13811 non-null  float64\n",
      " 6   Gross      13158 non-null  float64\n",
      "dtypes: float64(2), object(5)\n",
      "memory usage: 755.4+ KB\n"
     ]
    }
   ],
   "source": [
    "df.info()"
   ]
  },
  {
   "cell_type": "code",
   "execution_count": 4,
   "metadata": {},
   "outputs": [
    {
     "data": {
      "text/html": [
       "<div>\n",
       "<style scoped>\n",
       "    .dataframe tbody tr th:only-of-type {\n",
       "        vertical-align: middle;\n",
       "    }\n",
       "\n",
       "    .dataframe tbody tr th {\n",
       "        vertical-align: top;\n",
       "    }\n",
       "\n",
       "    .dataframe thead th {\n",
       "        text-align: right;\n",
       "    }\n",
       "</style>\n",
       "<table border=\"1\" class=\"dataframe\">\n",
       "  <thead>\n",
       "    <tr style=\"text-align: right;\">\n",
       "      <th></th>\n",
       "      <th>NAME</th>\n",
       "      <th>JOBTITLE</th>\n",
       "      <th>DEPTID</th>\n",
       "      <th>DESCR</th>\n",
       "      <th>HIRE_DT</th>\n",
       "      <th>ANNUAL_RT</th>\n",
       "      <th>Gross</th>\n",
       "    </tr>\n",
       "  </thead>\n",
       "  <tbody>\n",
       "    <tr>\n",
       "      <th>0</th>\n",
       "      <td>Aaron,Kareem D</td>\n",
       "      <td>Utilities Inst Repair I</td>\n",
       "      <td>A50550</td>\n",
       "      <td>DPW-Water &amp; Waste Water (550)</td>\n",
       "      <td>08/27/2018 12:00:00 AM</td>\n",
       "      <td>32470.0</td>\n",
       "      <td>25743.94</td>\n",
       "    </tr>\n",
       "    <tr>\n",
       "      <th>1</th>\n",
       "      <td>Aaron,Patricia G</td>\n",
       "      <td>Facilities/Office Services II</td>\n",
       "      <td>A03031</td>\n",
       "      <td>OED-Employment Dev (031)</td>\n",
       "      <td>10/24/1979 12:00:00 AM</td>\n",
       "      <td>60200.0</td>\n",
       "      <td>57806.13</td>\n",
       "    </tr>\n",
       "    <tr>\n",
       "      <th>2</th>\n",
       "      <td>Abadir,Adam O</td>\n",
       "      <td>Council Technician</td>\n",
       "      <td>A02002</td>\n",
       "      <td>City Council (002)</td>\n",
       "      <td>12/12/2016 12:00:00 AM</td>\n",
       "      <td>64823.0</td>\n",
       "      <td>64774.11</td>\n",
       "    </tr>\n",
       "    <tr>\n",
       "      <th>3</th>\n",
       "      <td>Abaku,Aigbolosimuan O</td>\n",
       "      <td>Police Officer</td>\n",
       "      <td>A99094</td>\n",
       "      <td>Police Department (094)</td>\n",
       "      <td>04/17/2018 12:00:00 AM</td>\n",
       "      <td>53640.0</td>\n",
       "      <td>59361.55</td>\n",
       "    </tr>\n",
       "    <tr>\n",
       "      <th>4</th>\n",
       "      <td>Abbeduto,Mack</td>\n",
       "      <td>Assistant State's Attorney</td>\n",
       "      <td>A29011</td>\n",
       "      <td>States Attorneys Office (011)</td>\n",
       "      <td>05/22/2017 12:00:00 AM</td>\n",
       "      <td>68562.0</td>\n",
       "      <td>61693.59</td>\n",
       "    </tr>\n",
       "  </tbody>\n",
       "</table>\n",
       "</div>"
      ],
      "text/plain": [
       "                    NAME                       JOBTITLE  DEPTID  \\\n",
       "0         Aaron,Kareem D        Utilities Inst Repair I  A50550   \n",
       "1       Aaron,Patricia G  Facilities/Office Services II  A03031   \n",
       "2          Abadir,Adam O             Council Technician  A02002   \n",
       "3  Abaku,Aigbolosimuan O                 Police Officer  A99094   \n",
       "4          Abbeduto,Mack     Assistant State's Attorney  A29011   \n",
       "\n",
       "                           DESCR                 HIRE_DT  ANNUAL_RT     Gross  \n",
       "0  DPW-Water & Waste Water (550)  08/27/2018 12:00:00 AM    32470.0  25743.94  \n",
       "1       OED-Employment Dev (031)  10/24/1979 12:00:00 AM    60200.0  57806.13  \n",
       "2             City Council (002)  12/12/2016 12:00:00 AM    64823.0  64774.11  \n",
       "3        Police Department (094)  04/17/2018 12:00:00 AM    53640.0  59361.55  \n",
       "4  States Attorneys Office (011)  05/22/2017 12:00:00 AM    68562.0  61693.59  "
      ]
     },
     "execution_count": 4,
     "metadata": {},
     "output_type": "execute_result"
    }
   ],
   "source": [
    "df.head()"
   ]
  },
  {
   "cell_type": "markdown",
   "metadata": {},
   "source": [
    "## Privacy Setup"
   ]
  },
  {
   "cell_type": "markdown",
   "metadata": {},
   "source": [
    "### Target column"
   ]
  },
  {
   "cell_type": "markdown",
   "metadata": {},
   "source": [
    "Throughout our tests, we are going to apply noise into 2 target columns: the __annual earnings__, and the __gross earnings__."
   ]
  },
  {
   "cell_type": "markdown",
   "metadata": {},
   "source": [
    "### Bounds definition"
   ]
  },
  {
   "cell_type": "markdown",
   "metadata": {},
   "source": [
    "With our prior knowledge regarding the IBM's bounds' selection requirements, we are going to define ourselves the bounds for the DP algorithms, by guessing the possible minimum and maximum values."
   ]
  },
  {
   "cell_type": "code",
   "execution_count": 5,
   "metadata": {},
   "outputs": [],
   "source": [
    "annual_earnings_range = (0, 500000)\n",
    "annual_gross_range = (0, 500000)"
   ]
  },
  {
   "cell_type": "markdown",
   "metadata": {},
   "source": [
    "## Histograms"
   ]
  },
  {
   "cell_type": "markdown",
   "metadata": {},
   "source": [
    "We are going to run various histograms, in order to observe the effect of applying DP to our dataset. \n",
    "\n",
    "A histogram is a graphical representation that organizes a group of data points into user-specified ranges, called bins. The `numpy` function will take as input the data and the pre-specified bins, and return the distribution of the points in each one of the bins.\n",
    "\n",
    "Those bins, are chosen by default given the lowest and the highest values of the dataset. Since we are applying DP though, we already know that such information leakage is unacceptable: we must predefine the bins given what we think of the bounds, independently of our knowledge of the dataset. \n",
    "\n",
    "We will see further details as we move on."
   ]
  },
  {
   "cell_type": "markdown",
   "metadata": {},
   "source": [
    "### Accurate testings"
   ]
  },
  {
   "cell_type": "markdown",
   "metadata": {},
   "source": [
    "We know by now that the noise inserted in the query by the DP algorithms is based on probabilistic distributions. Thus, it is clear that our testings will not be accurate if we run the query once, because it is possible that we get extreme values of noise, and as a result, extreme differences between the real histogram and the noisy one. "
   ]
  },
  {
   "cell_type": "markdown",
   "metadata": {},
   "source": [
    "In order to achieve that, we are going to define a function that takes as an argument the arguments of the hist function, runs the histogram query multiple times, and finally returns the mean value of all of those runs."
   ]
  },
  {
   "cell_type": "code",
   "execution_count": 6,
   "metadata": {},
   "outputs": [],
   "source": [
    "def accurate_histogram(input_list, bins, epsilon, bounds_range):\n",
    "    # initialize a list of the upcoming result of the histogram\n",
    "    result = [0] * (bins + 1)\n",
    "    for i in range (1, 100):\n",
    "        # compute the i-th histogram\n",
    "        new_list = dp.tools.histogram(input_list, bins = bins, epsilon = epsilon, range = bounds_range)[0]\n",
    "        # compute the bins to return, but only once\n",
    "        if (i == 1):\n",
    "            new_bins = dp.tools.histogram(input_list, bins = bins, epsilon = epsilon, range = bounds_range)[1]\n",
    "        # calculate a new list, by adding the previous, and the new histogram\n",
    "        result = [sum(x) for x in zip(result, new_list)]\n",
    "    # finally return the mean results of the 100 histograms\n",
    "    return [(math.floor(a / 100)) for a in result], new_bins"
   ]
  },
  {
   "cell_type": "markdown",
   "metadata": {},
   "source": [
    "### Accuracy error"
   ]
  },
  {
   "cell_type": "markdown",
   "metadata": {},
   "source": [
    "A handy way to compute the accuracy error is to find the __l1-norm__ of the vector that consists of the accuracy errors in each bins. Thus, the total error is given by:\n",
    "\n",
    "$error = ||abs(dp - non\\_dp)||_1$ ,\n",
    "where dp and non-dp are the vectors of the results of the DP and non-DP queries respectively.\n",
    "\n",
    "The final accuracy error will emerge by finding the mean value of multiple executions of the DP histogram."
   ]
  },
  {
   "cell_type": "code",
   "execution_count": 7,
   "metadata": {},
   "outputs": [],
   "source": [
    "def accuracy_error(non_dp_vector, input_list, bins, epsilon, bounds_range):\n",
    "    # initialize the accuracy error\n",
    "    error = 0\n",
    "    # create many histograms\n",
    "    for i in range (100):\n",
    "        # compute the i-th histogram\n",
    "        dp_vector = dp.tools.histogram(input_list, bins = bins, epsilon = epsilon, range = bounds_range)[0]\n",
    "        # increase each time by the l1-norm of the accuracy error vector\n",
    "        error += np.linalg.norm(abs(dp_vector - non_dp_vector), ord = 1)\n",
    "    # finally return the mean results of the 100 histograms\n",
    "    return error / 100"
   ]
  },
  {
   "cell_type": "markdown",
   "metadata": {},
   "source": [
    "### Histogram on annual earnings"
   ]
  },
  {
   "cell_type": "markdown",
   "metadata": {},
   "source": [
    "We are going to study our dataset data, by creating a histogram based on the annual earnings. Let's start with a normal hist, without differential privacy."
   ]
  },
  {
   "cell_type": "markdown",
   "metadata": {},
   "source": [
    "We are not going to let numpy define our bins for us. We want the non-DP histogram to be in the same scale as the DP one that we are going to define later, which is going to have as a maximum and minimum the bounds that we have already defined."
   ]
  },
  {
   "cell_type": "code",
   "execution_count": 8,
   "metadata": {},
   "outputs": [
    {
     "data": {
      "text/plain": [
       "(array([5.453e+03, 4.202e+03, 2.314e+03, 5.150e+02, 9.200e+01, 2.900e+01,\n",
       "        1.400e+01, 1.000e+00, 2.000e+00, 1.000e+00, 0.000e+00, 0.000e+00,\n",
       "        0.000e+00, 0.000e+00, 0.000e+00, 0.000e+00, 0.000e+00, 0.000e+00]),\n",
       " array([ 26315.78947368,  51169.59064327,  76023.39181287, 100877.19298246,\n",
       "        125730.99415205, 150584.79532164, 175438.59649123, 200292.39766082,\n",
       "        225146.19883041, 250000.        , 274853.80116959, 299707.60233918,\n",
       "        324561.40350877, 349415.20467836, 374269.00584795, 399122.80701754,\n",
       "        423976.60818713, 448830.40935673, 473684.21052632]),\n",
       " <a list of 18 Patch objects>)"
      ]
     },
     "execution_count": 8,
     "metadata": {},
     "output_type": "execute_result"
    },
    {
     "data": {
      "image/png": "[encoded data removed]",
      "text/plain": [
       "<Figure size 432x288 with 1 Axes>"
      ]
     },
     "metadata": {
      "needs_background": "light"
     },
     "output_type": "display_data"
    }
   ],
   "source": [
    "# create custom bins\n",
    "bins = np.linspace(0, 500000, 20)[1:]\n",
    "\n",
    "non_dp_hist, dummy = np.histogram(df['ANNUAL_RT'].tolist(), bins = bins)\n",
    "\n",
    "plt.hist(bins[:-1], len(non_dp_hist), weights = non_dp_hist)"
   ]
  },
  {
   "cell_type": "markdown",
   "metadata": {},
   "source": [
    "Let's now plot the differential private histogram regarding the same data."
   ]
  },
  {
   "cell_type": "code",
   "execution_count": 9,
   "metadata": {},
   "outputs": [
    {
     "data": {
      "text/plain": [
       "(array([5.398e+03, 4.160e+03, 2.290e+03, 5.090e+02, 9.100e+01, 2.800e+01,\n",
       "        1.300e+01, 1.000e+00, 2.000e+00, 1.000e+00, 0.000e+00, 0.000e+00,\n",
       "        0.000e+00, 0.000e+00, 0.000e+00, 0.000e+00, 0.000e+00, 0.000e+00]),\n",
       " array([ 26315.78947368,  51169.59064327,  76023.39181287, 100877.19298246,\n",
       "        125730.99415205, 150584.79532164, 175438.59649123, 200292.39766082,\n",
       "        225146.19883041, 250000.        , 274853.80116959, 299707.60233918,\n",
       "        324561.40350877, 349415.20467836, 374269.00584795, 399122.80701754,\n",
       "        423976.60818713, 448830.40935673, 473684.21052632]),\n",
       " <a list of 18 Patch objects>)"
      ]
     },
     "execution_count": 9,
     "metadata": {},
     "output_type": "execute_result"
    },
    {
     "data": {
      "image/png": "[encoded data removed]",
      "text/plain": [
       "<Figure size 432x288 with 1 Axes>"
      ]
     },
     "metadata": {
      "needs_background": "light"
     },
     "output_type": "display_data"
    }
   ],
   "source": [
    "hist, dummy = accurate_histogram(df['ANNUAL_RT'].tolist(), bins, 1, annual_earnings_range)\n",
    "\n",
    "plt.hist(bins[:-1], len(hist), weights = hist)"
   ]
  },
  {
   "cell_type": "markdown",
   "metadata": {},
   "source": [
    "The results are more than satisfying in the naked eye. This is probably due to the large dataset size: we are not able to locate small changes. In order to do so, we are going to check our error using the accuracy error function that we have defined."
   ]
  },
  {
   "cell_type": "code",
   "execution_count": 10,
   "metadata": {},
   "outputs": [
    {
     "name": "stdout",
     "output_type": "stream",
     "text": [
      "12.2\n"
     ]
    }
   ],
   "source": [
    "acc_err = accuracy_error(non_dp_hist, df['ANNUAL_RT'].tolist(), bins, 1, annual_earnings_range)\n",
    "\n",
    "print(acc_err)"
   ]
  },
  {
   "cell_type": "markdown",
   "metadata": {},
   "source": [
    "The error determines how many entries were wrongly classified in a bin (in average), when the differentially private query was run. So, eleven people out of 13.000 were wrongly classified, whereas their privacy was secured. This is quite a good trade-off!"
   ]
  },
  {
   "cell_type": "markdown",
   "metadata": {},
   "source": [
    "In order to decide on the best epsilon value, we are going to apply the same technique as shown in the epsilon measurements earlier. We are going to examine the behavior of the accuracy error when we increase the epsilon value."
   ]
  },
  {
   "cell_type": "code",
   "execution_count": 11,
   "metadata": {},
   "outputs": [
    {
     "data": {
      "image/png": "[encoded data removed]",
      "text/plain": [
       "<Figure size 864x576 with 1 Axes>"
      ]
     },
     "metadata": {
      "needs_background": "light"
     },
     "output_type": "display_data"
    }
   ],
   "source": [
    "# epsilon values we are going to run the query with\n",
    "epsilon = [i/10 + 0.2 for i in range (0,50)]\n",
    "# list of the accuracy results, empty in the beggining\n",
    "results = []\n",
    "\n",
    "# loop through different epsilons\n",
    "for e in epsilon:\n",
    "    res = accuracy_error(non_dp_hist, df['ANNUAL_RT'].tolist(), bins, e, annual_earnings_range)\n",
    "    results.append(res)\n",
    "\n",
    "# plot the result \n",
    "plt.figure(figsize = (12,8))\n",
    "\n",
    "plt.plot(epsilon, results, label='Real accuracy error')\n",
    "\n",
    "plt.legend(loc='best')\n",
    "\n",
    "plt.xlabel('Epsilon')\n",
    "plt.ylabel('Accuracy Error')\n",
    "plt.show()"
   ]
  },
  {
   "cell_type": "markdown",
   "metadata": {},
   "source": [
    "We observe that the curve is rather normal according to both the theory and our previous experience: The biggest the epsilon gets, the smallest the accuracy error (but the higher the privacy loss).\n",
    "\n",
    "Even for very small epsilon values ($\\leq 1$), we observe that there are less than 100 out of 13.000 people wrongly classified in a bin.\n",
    "\n",
    "Of course, if we increase the bins(and thus the precision of the classification needed, the error will increase)."
   ]
  },
  {
   "cell_type": "markdown",
   "metadata": {},
   "source": [
    "### Histogram on gross earnings"
   ]
  },
  {
   "cell_type": "markdown",
   "metadata": {},
   "source": [
    "Last but not least, let's apply the same techniques in order to plot a differentially private histogram for the gross earnings of the employers. We are not going to study the accuracy results, as there will be very similar to the ones we have shown earlier."
   ]
  },
  {
   "cell_type": "code",
   "execution_count": 12,
   "metadata": {},
   "outputs": [
    {
     "data": {
      "text/plain": [
       "(array([3743., 3580., 2189.,  980.,  418.,  136.,   40.,    6.,    5.,\n",
       "           0.,    0.,    0.,    0.,    0.,    0.,    0.,    0.,    0.]),\n",
       " array([ 26315.78947368,  51169.59064327,  76023.39181287, 100877.19298246,\n",
       "        125730.99415205, 150584.79532164, 175438.59649123, 200292.39766082,\n",
       "        225146.19883041, 250000.        , 274853.80116959, 299707.60233918,\n",
       "        324561.40350877, 349415.20467836, 374269.00584795, 399122.80701754,\n",
       "        423976.60818713, 448830.40935673, 473684.21052632]),\n",
       " <a list of 18 Patch objects>)"
      ]
     },
     "execution_count": 12,
     "metadata": {},
     "output_type": "execute_result"
    },
    {
     "data": {
      "image/png": "[encoded data removed]",
      "text/plain": [
       "<Figure size 432x288 with 1 Axes>"
      ]
     },
     "metadata": {
      "needs_background": "light"
     },
     "output_type": "display_data"
    }
   ],
   "source": [
    "# create custom bins\n",
    "bins = np.linspace(0, 500000, 20)[1:]\n",
    "\n",
    "hist, dummy = accurate_histogram(df['Gross'].tolist(), bins, 1, annual_earnings_range)\n",
    "\n",
    "plt.hist(bins[:-1], len(hist), weights = hist)"
   ]
  },
  {
   "cell_type": "markdown",
   "metadata": {},
   "source": [
    "## Histogram queries in theory"
   ]
  },
  {
   "cell_type": "markdown",
   "metadata": {},
   "source": [
    "Based on `Dwork, C., Roth, A. (2014). The Algorithmic Foundations of Differential Privacy` the histogram queries are very high sensitivity queries, thus a slight change to the bounds could be critical for their result. \n",
    "\n",
    "The writers suggest that we use noise generated by the LaPlace mechanism, but with a slight change. In detail they suggest the following:\n",
    "\n",
    "\n",
    "\"_In the special (but common) case in which the queries are structurally disjoint we can do much better — we do not necessarily have to let the noise scale with the number of queries. An example is the histogram query. In this type of query the universe $N^X$ is partitioned into cells, and the query asks how many database elements lie in each of the cells. Because the cells are disjoint, the addition or removal of a single database element can affect the count in exactly one cell, and the difference to that cell is bounded by 1, so histogram queries have sensitivity 1 and can be answered by adding independent draws from $Lap(\\frac{1}{\\epsilon})$ to the true count in each cell._\""
   ]
  },
  {
   "cell_type": "markdown",
   "metadata": {},
   "source": [
    "## Conclusions"
   ]
  },
  {
   "cell_type": "markdown",
   "metadata": {},
   "source": [
    "After plotting a very basic histogram using `diffprivlib`'s functions, it is clear that the histograms created can be trusted for the extraction of statistical data. They seem to be accurate with an extremely naive selection of bounds, if the query is run multiple times."
   ]
  }
 ],
 "metadata": {
  "kernelspec": {
   "display_name": "Python 3",
   "language": "python",
   "name": "python3"
  },
  "language_info": {
   "codemirror_mode": {
    "name": "ipython",
    "version": 3
   },
   "file_extension": ".py",
   "mimetype": "text/x-python",
   "name": "python",
   "nbconvert_exporter": "python",
   "pygments_lexer": "ipython3",
   "version": "3.8.5"
  }
 },
 "nbformat": 4,
 "nbformat_minor": 4
}
