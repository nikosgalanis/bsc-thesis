{
 "cells": [
  {
   "cell_type": "markdown",
   "metadata": {},
   "source": [
    "# Histograms on numerical datasets"
   ]
  },
  {
   "cell_type": "markdown",
   "metadata": {},
   "source": [
    "Histogram graphs are a very handy way to visualize numerical data, compare different values of a specific field, and thus extract conclusions about the dataset. We are going to study the `diffprivlib`'s method of creating an histogram, and its accuracy when changing the epsilon factor.\n",
    "\n",
    "The IBM DP library offers a differential private way to create histograms. The difference with the simple queries that we tested, is that now, __geometric truncated__ noise is added in order to satisfy DP."
   ]
  },
  {
   "cell_type": "markdown",
   "metadata": {},
   "source": [
    "## The identity of the dataset: Employee salaries"
   ]
  },
  {
   "cell_type": "markdown",
   "metadata": {},
   "source": [
    "The dataset contains sensitive data regarding employee's salaries in the state of Baltimore, while stating other facts about the members of the dataset. \n",
    "\n",
    "The columns contained are: \n",
    " - __Name__\n",
    " - __Job Title__\n",
    " - __ID__\n",
    " - __Job description__\n",
    " - __Hire date__\n",
    " - __Annual earnings__\n",
    " - __Gross earnings__"
   ]
  },
  {
   "cell_type": "markdown",
   "metadata": {},
   "source": [
    "## Import libraries"
   ]
  },
  {
   "cell_type": "code",
   "execution_count": 1,
   "metadata": {},
   "outputs": [],
   "source": [
    "import pandas as pd\n",
    "import diffprivlib as dp\n",
    "import numpy as np\n",
    "import math\n",
    "import matplotlib.pyplot as plt"
   ]
  },
  {
   "cell_type": "markdown",
   "metadata": {},
   "source": [
    "## Load the dataset"
   ]
  },
  {
   "cell_type": "code",
   "execution_count": 2,
   "metadata": {},
   "outputs": [],
   "source": [
    "DATASET = \"./salaries.csv\"\n",
    "df = pd.read_csv(DATASET)"
   ]
  },
  {
   "cell_type": "markdown",
   "metadata": {},
   "source": [
    "Let's take a look at the dataset info to see if everything is alright."
   ]
  },
  {
   "cell_type": "code",
   "execution_count": 3,
   "metadata": {},
   "outputs": [
    {
     "name": "stdout",
     "output_type": "stream",
     "text": [
      "<class 'pandas.core.frame.DataFrame'>\n",
      "RangeIndex: 13811 entries, 0 to 13810\n",
      "Data columns (total 7 columns):\n",
      " #   Column     Non-Null Count  Dtype  \n",
      "---  ------     --------------  -----  \n",
      " 0   NAME       13811 non-null  object \n",
      " 1   JOBTITLE   13811 non-null  object \n",
      " 2   DEPTID     13811 non-null  object \n",
      " 3   DESCR      13811 non-null  object \n",
      " 4   HIRE_DT    13807 non-null  object \n",
      " 5   ANNUAL_RT  13811 non-null  float64\n",
      " 6   Gross      13158 non-null  float64\n",
      "dtypes: float64(2), object(5)\n",
      "memory usage: 755.4+ KB\n"
     ]
    }
   ],
   "source": [
    "df.info()"
   ]
  },
  {
   "cell_type": "code",
   "execution_count": 4,
   "metadata": {},
   "outputs": [
    {
     "data": {
      "text/html": [
       "<div>\n",
       "<style scoped>\n",
       "    .dataframe tbody tr th:only-of-type {\n",
       "        vertical-align: middle;\n",
       "    }\n",
       "\n",
       "    .dataframe tbody tr th {\n",
       "        vertical-align: top;\n",
       "    }\n",
       "\n",
       "    .dataframe thead th {\n",
       "        text-align: right;\n",
       "    }\n",
       "</style>\n",
       "<table border=\"1\" class=\"dataframe\">\n",
       "  <thead>\n",
       "    <tr style=\"text-align: right;\">\n",
       "      <th></th>\n",
       "      <th>NAME</th>\n",
       "      <th>JOBTITLE</th>\n",
       "      <th>DEPTID</th>\n",
       "      <th>DESCR</th>\n",
       "      <th>HIRE_DT</th>\n",
       "      <th>ANNUAL_RT</th>\n",
       "      <th>Gross</th>\n",
       "    </tr>\n",
       "  </thead>\n",
       "  <tbody>\n",
       "    <tr>\n",
       "      <th>0</th>\n",
       "      <td>Aaron,Kareem D</td>\n",
       "      <td>Utilities Inst Repair I</td>\n",
       "      <td>A50550</td>\n",
       "      <td>DPW-Water &amp; Waste Water (550)</td>\n",
       "      <td>08/27/2018 12:00:00 AM</td>\n",
       "      <td>32470.0</td>\n",
       "      <td>25743.94</td>\n",
       "    </tr>\n",
       "    <tr>\n",
       "      <th>1</th>\n",
       "      <td>Aaron,Patricia G</td>\n",
       "      <td>Facilities/Office Services II</td>\n",
       "      <td>A03031</td>\n",
       "      <td>OED-Employment Dev (031)</td>\n",
       "      <td>10/24/1979 12:00:00 AM</td>\n",
       "      <td>60200.0</td>\n",
       "      <td>57806.13</td>\n",
       "    </tr>\n",
       "    <tr>\n",
       "      <th>2</th>\n",
       "      <td>Abadir,Adam O</td>\n",
       "      <td>Council Technician</td>\n",
       "      <td>A02002</td>\n",
       "      <td>City Council (002)</td>\n",
       "      <td>12/12/2016 12:00:00 AM</td>\n",
       "      <td>64823.0</td>\n",
       "      <td>64774.11</td>\n",
       "    </tr>\n",
       "    <tr>\n",
       "      <th>3</th>\n",
       "      <td>Abaku,Aigbolosimuan O</td>\n",
       "      <td>Police Officer</td>\n",
       "      <td>A99094</td>\n",
       "      <td>Police Department (094)</td>\n",
       "      <td>04/17/2018 12:00:00 AM</td>\n",
       "      <td>53640.0</td>\n",
       "      <td>59361.55</td>\n",
       "    </tr>\n",
       "    <tr>\n",
       "      <th>4</th>\n",
       "      <td>Abbeduto,Mack</td>\n",
       "      <td>Assistant State's Attorney</td>\n",
       "      <td>A29011</td>\n",
       "      <td>States Attorneys Office (011)</td>\n",
       "      <td>05/22/2017 12:00:00 AM</td>\n",
       "      <td>68562.0</td>\n",
       "      <td>61693.59</td>\n",
       "    </tr>\n",
       "  </tbody>\n",
       "</table>\n",
       "</div>"
      ],
      "text/plain": [
       "                    NAME                       JOBTITLE  DEPTID  \\\n",
       "0         Aaron,Kareem D        Utilities Inst Repair I  A50550   \n",
       "1       Aaron,Patricia G  Facilities/Office Services II  A03031   \n",
       "2          Abadir,Adam O             Council Technician  A02002   \n",
       "3  Abaku,Aigbolosimuan O                 Police Officer  A99094   \n",
       "4          Abbeduto,Mack     Assistant State's Attorney  A29011   \n",
       "\n",
       "                           DESCR                 HIRE_DT  ANNUAL_RT     Gross  \n",
       "0  DPW-Water & Waste Water (550)  08/27/2018 12:00:00 AM    32470.0  25743.94  \n",
       "1       OED-Employment Dev (031)  10/24/1979 12:00:00 AM    60200.0  57806.13  \n",
       "2             City Council (002)  12/12/2016 12:00:00 AM    64823.0  64774.11  \n",
       "3        Police Department (094)  04/17/2018 12:00:00 AM    53640.0  59361.55  \n",
       "4  States Attorneys Office (011)  05/22/2017 12:00:00 AM    68562.0  61693.59  "
      ]
     },
     "execution_count": 4,
     "metadata": {},
     "output_type": "execute_result"
    }
   ],
   "source": [
    "df.head()"
   ]
  },
  {
   "cell_type": "markdown",
   "metadata": {},
   "source": [
    "## Privacy Setup"
   ]
  },
  {
   "cell_type": "markdown",
   "metadata": {},
   "source": [
    "### Target column"
   ]
  },
  {
   "cell_type": "markdown",
   "metadata": {},
   "source": [
    "Throughout our tests, we are going to apply noise into 2 target columns: the __annual earnings__, and the __gross earnings__."
   ]
  },
  {
   "cell_type": "markdown",
   "metadata": {},
   "source": [
    "### Bounds definition"
   ]
  },
  {
   "cell_type": "markdown",
   "metadata": {},
   "source": [
    "With our prior knowledge regarding the IBM's bounds' selection requirements, we are going to define ourselves the bounds for the DP algorithms, by guessing the possible minimum and maximum values."
   ]
  },
  {
   "cell_type": "code",
   "execution_count": 5,
   "metadata": {},
   "outputs": [],
   "source": [
    "annual_earnings_range = (0, 1000000)\n",
    "annual_gross_range = (0, 1000000)"
   ]
  },
  {
   "cell_type": "markdown",
   "metadata": {},
   "source": [
    "## Histograms"
   ]
  },
  {
   "cell_type": "markdown",
   "metadata": {},
   "source": [
    "We are going to run various histograms, in order to observe the effect of applying DP to our dataset. "
   ]
  },
  {
   "cell_type": "markdown",
   "metadata": {},
   "source": [
    "### Accurate testings"
   ]
  },
  {
   "cell_type": "markdown",
   "metadata": {},
   "source": [
    "We know by now that the noise inserted in the query by the DP algorithms is based on probabilistic distributions. Thus, it is clear that our testings will not be accurate if we run the query once, because it is possible that we get extreme values of noise, and as a result, extreme differences between the real histogram and the noisy one. "
   ]
  },
  {
   "cell_type": "markdown",
   "metadata": {},
   "source": [
    "In order to achieve that, we are going to define a function that takes as an argument the arguments of the hist function, runs the histogram query multiple times, and finally returns the mean value of all of those runs."
   ]
  },
  {
   "cell_type": "code",
   "execution_count": 6,
   "metadata": {},
   "outputs": [],
   "source": [
    "def accurate_histogram(input_list, bins, epsilon, bounds_range):\n",
    "    # initialize a list of the upcoming result of the histogram\n",
    "    result = [0] * (bins + 1)\n",
    "    for i in range (1, 100):\n",
    "        # compute the i-th histogram\n",
    "        new_list = dp.tools.histogram(input_list, bins = bins, epsilon = epsilon, range = bounds_range)[0]\n",
    "        # calculate a new list, by adding the previous, and the new histogram\n",
    "        result = [sum(x) for x in zip(result, new_list)]\n",
    "    # finally return the mean results of the 100 histograms\n",
    "    return [(math.floor(a / 100)) for a in result]"
   ]
  },
  {
   "cell_type": "markdown",
   "metadata": {},
   "source": [
    "### Histogram on annual earnings"
   ]
  },
  {
   "cell_type": "markdown",
   "metadata": {},
   "source": [
    "We are going to study our dataset data, by creating a histogram based on the annual earnings. Let's start with a normal hist, without differential privacy."
   ]
  },
  {
   "cell_type": "code",
   "execution_count": 7,
   "metadata": {},
   "outputs": [
    {
     "name": "stdout",
     "output_type": "stream",
     "text": [
      "[1313 6146 4036 1869  329   81   29    5    1    2]\n"
     ]
    },
    {
     "data": {
      "image/png": "[encoded data removed]",
      "text/plain": [
       "<Figure size 432x288 with 1 Axes>"
      ]
     },
     "metadata": {
      "needs_background": "light"
     },
     "output_type": "display_data"
    }
   ],
   "source": [
    "hist, bins = np.histogram(df['ANNUAL_RT'].tolist(), bins = 10)\n",
    "plt.hist(bins[:-1], len(hist), weights = hist)\n",
    "\n",
    "print(hist)"
   ]
  },
  {
   "cell_type": "markdown",
   "metadata": {},
   "source": [
    "Let's now plot the differential private histogram regarding the same data."
   ]
  },
  {
   "cell_type": "code",
   "execution_count": 8,
   "metadata": {},
   "outputs": [
    {
     "name": "stdout",
     "output_type": "stream",
     "text": [
      "[12941   865     5     0     0     0     0     0     0     0]\n"
     ]
    },
    {
     "data": {
      "text/plain": [
       "(array([1.2941e+04, 8.6500e+02, 5.0000e+00, 0.0000e+00, 0.0000e+00,\n",
       "        0.0000e+00, 0.0000e+00, 0.0000e+00, 0.0000e+00, 0.0000e+00]),\n",
       " array([     0.,  90000., 180000., 270000., 360000., 450000., 540000.,\n",
       "        630000., 720000., 810000., 900000.]),\n",
       " <a list of 10 Patch objects>)"
      ]
     },
     "execution_count": 8,
     "metadata": {},
     "output_type": "execute_result"
    },
    {
     "data": {
      "image/png": "[encoded data removed]",
      "text/plain": [
       "<Figure size 432x288 with 1 Axes>"
      ]
     },
     "metadata": {
      "needs_background": "light"
     },
     "output_type": "display_data"
    }
   ],
   "source": [
    "hist, bins = dp.tools.histogram(df['ANNUAL_RT'].tolist(), bins = 10, epsilon = 10, range = annual_earnings_range)\n",
    "plt.hist(bins[:-1], len(hist), weights = hist)\n",
    "\n",
    "print(hist)\n",
    "\n",
    "plt.hist(bins[:-1], len(hist), weights = hist)"
   ]
  },
  {
   "cell_type": "markdown",
   "metadata": {},
   "source": [
    "The results are rather alarming. The 2 histograms are not even close when it comes down to accuracy. The most obvious reason for this result is the naive bounds that we have taken. Lets cheat a bit, and plot the histogram with the best bounds possible: the min and the max value of the column. "
   ]
  },
  {
   "cell_type": "code",
   "execution_count": 9,
   "metadata": {},
   "outputs": [
    {
     "data": {
      "text/plain": [
       "(array([1.313e+03, 6.146e+03, 4.036e+03, 1.869e+03, 3.290e+02, 8.100e+01,\n",
       "        2.900e+01, 5.000e+00, 1.000e+00, 2.000e+00]),\n",
       " array([  1750. ,  26342.5,  50935. ,  75527.5, 100120. , 124712.5,\n",
       "        149305. , 173897.5, 198490. , 223082.5, 247675. ]),\n",
       " <a list of 10 Patch objects>)"
      ]
     },
     "execution_count": 9,
     "metadata": {},
     "output_type": "execute_result"
    },
    {
     "data": {
      "image/png": "[encoded data removed]",
      "text/plain": [
       "<Figure size 432x288 with 1 Axes>"
      ]
     },
     "metadata": {
      "needs_background": "light"
     },
     "output_type": "display_data"
    }
   ],
   "source": [
    "ideal_bounds = (min(df['ANNUAL_RT']), max(df['ANNUAL_RT']))\n",
    "hist, bins = dp.tools.histogram(df['ANNUAL_RT'].tolist(), bins = 10, epsilon = 10, range = ideal_bounds)\n",
    "plt.hist(bins[:-1], len(hist), weights = hist)"
   ]
  },
  {
   "cell_type": "markdown",
   "metadata": {},
   "source": [
    "As we can see, the result is almost identical to the previously plotted non-DP histogram. Let's try and guess again the bounds, this time by narrowing the range, in a desperate search for better results."
   ]
  },
  {
   "cell_type": "code",
   "execution_count": 10,
   "metadata": {},
   "outputs": [
    {
     "data": {
      "text/plain": [
       "(array([6.039e+03, 5.866e+03, 1.434e+03, 1.450e+02, 3.200e+01, 3.000e+00,\n",
       "        2.000e+00, 0.000e+00, 0.000e+00, 0.000e+00]),\n",
       " array([ 12000.,  46920.,  81840., 116760., 151680., 186600., 221520.,\n",
       "        256440., 291360., 326280., 361200.]),\n",
       " <a list of 10 Patch objects>)"
      ]
     },
     "execution_count": 10,
     "metadata": {},
     "output_type": "execute_result"
    },
    {
     "data": {
      "image/png": "[encoded data removed]",
      "text/plain": [
       "<Figure size 432x288 with 1 Axes>"
      ]
     },
     "metadata": {
      "needs_background": "light"
     },
     "output_type": "display_data"
    }
   ],
   "source": [
    "# no employee gets less than 1k per month, and no employee gets more than 400k a year\n",
    "better_bounds = (12000, 400000)\n",
    "\n",
    "hist, bins = dp.tools.histogram(df['ANNUAL_RT'].tolist(), bins = 10, epsilon = 10, range = better_bounds)\n",
    "plt.hist(bins[:-1], len(hist), weights = hist)"
   ]
  },
  {
   "cell_type": "markdown",
   "metadata": {},
   "source": [
    "Once again, those are some very disappointing results. We can safely come to the conclusion that our DP visualization will be irrelevant with the non-DP one, unless we violate the principals of DP, and choose our bounds based on our dataset info."
   ]
  },
  {
   "cell_type": "markdown",
   "metadata": {},
   "source": [
    "## Histogram queries in theory"
   ]
  },
  {
   "cell_type": "markdown",
   "metadata": {},
   "source": [
    "Based on `Dwork, C., Roth, A. (2014). The Algorithmic Foundations of Differential Privacy` the histogram queries are very high sensitivity queries, thus a slight change to the bounds could be critical for their result. \n",
    "\n",
    "The writers suggest that we use noise generated by the LaPlace mechanism, but with a slight change. In detail they suggest the following:\n",
    "\n",
    "\n",
    "\"_In the special (but common) case in which the queries are structurally disjoint we can do much better — we do not necessarily have to let the noise scale with the number of queries. An example is the histogram query. In this type of query the universe $N^X$ is partitioned into cells, and the query asks how many database elements lie in each of the cells. Because the cells are disjoint, the addition or removal of a single database element can affect the count in exactly one cell, and the difference to that cell is bounded by 1, so histogram queries have sensitivity 1 and can be answered by adding independent draws from $Lap(\\frac{1}{\\epsilon})$ to the true count in each cell._\""
   ]
  },
  {
   "cell_type": "markdown",
   "metadata": {},
   "source": [
    "It is clear that the IBM library does not follow this suggestion, which results in very bad results in the histogram query."
   ]
  }
 ],
 "metadata": {
  "kernelspec": {
   "display_name": "Python 3",
   "language": "python",
   "name": "python3"
  },
  "language_info": {
   "codemirror_mode": {
    "name": "ipython",
    "version": 3
   },
   "file_extension": ".py",
   "mimetype": "text/x-python",
   "name": "python",
   "nbconvert_exporter": "python",
   "pygments_lexer": "ipython3",
   "version": "3.8.5"
  }
 },
 "nbformat": 4,
 "nbformat_minor": 4
}
