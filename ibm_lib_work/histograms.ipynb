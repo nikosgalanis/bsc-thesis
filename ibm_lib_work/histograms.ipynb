{
 "cells": [
  {
   "cell_type": "markdown",
   "metadata": {},
   "source": [
    "# Histograms on numerical datasets"
   ]
  },
  {
   "cell_type": "markdown",
   "metadata": {},
   "source": [
    "Histogram graphs are a very handy way to visualize numerical data, compare different values of a specific field, and thus extract conclusions about the dataset. We are going to study the `diffprivlib`'s method of creating an histogram, and its accuracy when changing the epsilon factor.\n",
    "\n",
    "The IBM DP library offers a differential private way to create histograms. The difference with the simple queries that we tested, is that now, __geometric truncated__ noise is added in order to satisfy DP."
   ]
  },
  {
   "cell_type": "markdown",
   "metadata": {},
   "source": [
    "## The identity of the dataset: Employee salaries"
   ]
  },
  {
   "cell_type": "markdown",
   "metadata": {},
   "source": [
    "The dataset contains sensitive data regarding employee's salaries in the state of Baltimore, while stating other facts about the members of the dataset. \n",
    "\n",
    "The columns contained are: \n",
    " - __Name__\n",
    " - __Job Title__\n",
    " - __ID__\n",
    " - __Job description__\n",
    " - __Hire date__\n",
    " - __Annual earnings__\n",
    " - __Gross earnings__"
   ]
  },
  {
   "cell_type": "markdown",
   "metadata": {},
   "source": [
    "## Import libraries"
   ]
  },
  {
   "cell_type": "code",
   "execution_count": 1,
   "metadata": {},
   "outputs": [],
   "source": [
    "import pandas as pd\n",
    "import diffprivlib as dp\n",
    "import numpy as np\n",
    "import math\n",
    "import matplotlib.pyplot as plt\n",
    "import qif"
   ]
  },
  {
   "cell_type": "markdown",
   "metadata": {},
   "source": [
    "## Load the dataset"
   ]
  },
  {
   "cell_type": "code",
   "execution_count": 2,
   "metadata": {},
   "outputs": [],
   "source": [
    "DATASET = \"./employee_salaries.csv\"\n",
    "df = pd.read_csv(DATASET)"
   ]
  },
  {
   "cell_type": "markdown",
   "metadata": {},
   "source": [
    "Let's take a look at the dataset info to see if everything is alright."
   ]
  },
  {
   "cell_type": "code",
   "execution_count": 3,
   "metadata": {},
   "outputs": [
    {
     "name": "stdout",
     "output_type": "stream",
     "text": [
      "<class 'pandas.core.frame.DataFrame'>\n",
      "RangeIndex: 154648 entries, 0 to 154647\n",
      "Data columns (total 6 columns):\n",
      " #   Column        Non-Null Count   Dtype  \n",
      "---  ------        --------------   -----  \n",
      " 0   ID            154648 non-null  int64  \n",
      " 1   FirstName     154648 non-null  object \n",
      " 2   LastName      154238 non-null  object \n",
      " 3   JobTitle      154648 non-null  object \n",
      " 4   AnnualSalary  154648 non-null  float64\n",
      " 5   GrossPay      146169 non-null  float64\n",
      "dtypes: float64(2), int64(1), object(3)\n",
      "memory usage: 7.1+ MB\n"
     ]
    }
   ],
   "source": [
    "df.info()"
   ]
  },
  {
   "cell_type": "code",
   "execution_count": 4,
   "metadata": {},
   "outputs": [
    {
     "data": {
      "text/html": [
       "<div>\n",
       "<style scoped>\n",
       "    .dataframe tbody tr th:only-of-type {\n",
       "        vertical-align: middle;\n",
       "    }\n",
       "\n",
       "    .dataframe tbody tr th {\n",
       "        vertical-align: top;\n",
       "    }\n",
       "\n",
       "    .dataframe thead th {\n",
       "        text-align: right;\n",
       "    }\n",
       "</style>\n",
       "<table border=\"1\" class=\"dataframe\">\n",
       "  <thead>\n",
       "    <tr style=\"text-align: right;\">\n",
       "      <th></th>\n",
       "      <th>ID</th>\n",
       "      <th>FirstName</th>\n",
       "      <th>LastName</th>\n",
       "      <th>JobTitle</th>\n",
       "      <th>AnnualSalary</th>\n",
       "      <th>GrossPay</th>\n",
       "    </tr>\n",
       "  </thead>\n",
       "  <tbody>\n",
       "    <tr>\n",
       "      <th>0</th>\n",
       "      <td>201</td>\n",
       "      <td>Desiree</td>\n",
       "      <td>Alston</td>\n",
       "      <td>SCHOOL HEALTH AIDE (10 MONTHS)</td>\n",
       "      <td>23395.0</td>\n",
       "      <td>20482.58</td>\n",
       "    </tr>\n",
       "    <tr>\n",
       "      <th>1</th>\n",
       "      <td>101</td>\n",
       "      <td>Maude</td>\n",
       "      <td>Akins</td>\n",
       "      <td>DATA ENTRY OPERATOR II</td>\n",
       "      <td>31609.0</td>\n",
       "      <td>28525.11</td>\n",
       "    </tr>\n",
       "    <tr>\n",
       "      <th>2</th>\n",
       "      <td>301</td>\n",
       "      <td>Shavonna</td>\n",
       "      <td>Anderson</td>\n",
       "      <td>EMERGENCY DISPATCHER</td>\n",
       "      <td>44331.0</td>\n",
       "      <td>44093.40</td>\n",
       "    </tr>\n",
       "    <tr>\n",
       "      <th>3</th>\n",
       "      <td>51</td>\n",
       "      <td>Margaret</td>\n",
       "      <td>Adams</td>\n",
       "      <td>PROGRAM ASSISTANT I</td>\n",
       "      <td>33841.0</td>\n",
       "      <td>30336.61</td>\n",
       "    </tr>\n",
       "    <tr>\n",
       "      <th>4</th>\n",
       "      <td>1</td>\n",
       "      <td>Patricia</td>\n",
       "      <td>Aaron</td>\n",
       "      <td>Facilities/Office Services II</td>\n",
       "      <td>50845.0</td>\n",
       "      <td>45505.94</td>\n",
       "    </tr>\n",
       "  </tbody>\n",
       "</table>\n",
       "</div>"
      ],
      "text/plain": [
       "    ID  FirstName  LastName                        JobTitle  AnnualSalary  \\\n",
       "0  201   Desiree     Alston  SCHOOL HEALTH AIDE (10 MONTHS)       23395.0   \n",
       "1  101     Maude      Akins          DATA ENTRY OPERATOR II       31609.0   \n",
       "2  301  Shavonna   Anderson            EMERGENCY DISPATCHER       44331.0   \n",
       "3   51  Margaret      Adams             PROGRAM ASSISTANT I       33841.0   \n",
       "4    1  Patricia      Aaron   Facilities/Office Services II       50845.0   \n",
       "\n",
       "   GrossPay  \n",
       "0  20482.58  \n",
       "1  28525.11  \n",
       "2  44093.40  \n",
       "3  30336.61  \n",
       "4  45505.94  "
      ]
     },
     "execution_count": 4,
     "metadata": {},
     "output_type": "execute_result"
    }
   ],
   "source": [
    "df.head()"
   ]
  },
  {
   "cell_type": "markdown",
   "metadata": {},
   "source": [
    "## Privacy Setup"
   ]
  },
  {
   "cell_type": "markdown",
   "metadata": {},
   "source": [
    "### Target column"
   ]
  },
  {
   "cell_type": "markdown",
   "metadata": {},
   "source": [
    "Throughout our tests, we are going to apply noise into 2 target columns: the __annual earnings__, and the __gross earnings__."
   ]
  },
  {
   "cell_type": "markdown",
   "metadata": {},
   "source": [
    "### Bounds definition"
   ]
  },
  {
   "cell_type": "markdown",
   "metadata": {},
   "source": [
    "With our prior knowledge regarding the IBM's bounds' selection requirements, we are going to define ourselves the bounds for the DP algorithms, by guessing the possible minimum and maximum values."
   ]
  },
  {
   "cell_type": "code",
   "execution_count": 5,
   "metadata": {},
   "outputs": [],
   "source": [
    "annual_earnings_range = (0, 300000)\n",
    "annual_gross_range = (0, 300000)"
   ]
  },
  {
   "cell_type": "markdown",
   "metadata": {},
   "source": [
    "## Histograms"
   ]
  },
  {
   "cell_type": "markdown",
   "metadata": {},
   "source": [
    "We are going to run various histograms, in order to observe the effect of applying DP to our dataset. \n",
    "\n",
    "A histogram is a graphical representation that organizes a group of data points into user-specified ranges, called bins. The `numpy` function will take as input the data and the pre-specified bins, and return the distribution of the points in each one of the bins.\n",
    "\n",
    "Those bins, are chosen by default given the lowest and the highest values of the dataset. Since we are applying DP though, we already know that such information leakage is unacceptable: we must predefine the bins given what we think of the bounds, independently of our knowledge of the dataset. \n",
    "\n",
    "We will see further details as we move on."
   ]
  },
  {
   "cell_type": "markdown",
   "metadata": {},
   "source": [
    "### Accurate testings"
   ]
  },
  {
   "cell_type": "markdown",
   "metadata": {},
   "source": [
    "We know by now that the noise inserted in the query by the DP algorithms is based on probabilistic distributions. Thus, it is clear that our testings will not be accurate if we run the query once, because it is possible that we get extreme values of noise, and as a result, extreme differences between the real histogram and the noisy one. "
   ]
  },
  {
   "cell_type": "markdown",
   "metadata": {},
   "source": [
    "In order to achieve that, we are going to define a function that takes as an argument the arguments of the hist function, runs the histogram query multiple times, and finally returns the mean value of all of those runs."
   ]
  },
  {
   "cell_type": "code",
   "execution_count": 6,
   "metadata": {},
   "outputs": [],
   "source": [
    "def accurate_histogram(input_list, bins, epsilon, bounds_range):\n",
    "    # initialize a list of the upcoming result of the histogram\n",
    "    result = [0] * (bins + 1)\n",
    "    for i in range (1, 100):\n",
    "        # compute the i-th histogram\n",
    "        new_list = dp.tools.histogram(input_list, bins = bins, epsilon = epsilon, range = bounds_range)[0]\n",
    "        # compute the bins to return, but only once\n",
    "        if (i == 1):\n",
    "            new_bins = dp.tools.histogram(input_list, bins = bins, epsilon = epsilon, range = bounds_range)[1]\n",
    "        # calculate a new list, by adding the previous, and the new histogram\n",
    "        result = [sum(x) for x in zip(result, new_list)]\n",
    "    # finally return the mean results of the 100 histograms\n",
    "    return [(math.floor(a / 100)) for a in result], new_bins"
   ]
  },
  {
   "cell_type": "markdown",
   "metadata": {},
   "source": [
    "### Accuracy error"
   ]
  },
  {
   "cell_type": "markdown",
   "metadata": {},
   "source": [
    "A handy way to compute the accuracy error is to find the __l1-norm__ of the vector that consists of the accuracy errors in each bins. Thus, the total error is given by:\n",
    "\n",
    "$error = ||abs(dp - non\\_dp)||_1$ ,\n",
    "where dp and non-dp are the vectors of the results of the DP and non-DP queries respectively.\n",
    "\n",
    "The final accuracy error will emerge by finding the mean value of multiple executions of the DP histogram."
   ]
  },
  {
   "cell_type": "code",
   "execution_count": 9,
   "metadata": {},
   "outputs": [],
   "source": [
    "def accuracy_error(non_dp_vector, input_list, bins, epsilon, bounds_range):\n",
    "    # initialize the accuracy error\n",
    "    error = 0\n",
    "    # create many histograms\n",
    "    for i in range (100):\n",
    "        # compute the i-th histogram\n",
    "        dp_vector = dp.tools.histogram(input_list, bins = bins, epsilon = epsilon, range = bounds_range)[0]\n",
    "        # increase each time by the l1-norm of the accuracy error vector\n",
    "        error += np.linalg.norm(abs(dp_vector - non_dp_vector), ord = 1)\n",
    "    # finally return the mean results of the 100 histograms\n",
    "    return error / 100\n",
    "\n",
    "def euclid(x, y):                       # ground distance\n",
    "    return abs(x-y)\n",
    "\n",
    "\n",
    "kant = qif.metric.kantorovich(euclid)   # distance on distributions\n",
    "\n",
    "def kant_error(non_dp_vector, input_list, bins, epsilon, bounds_range):\n",
    "    # initialize the accuracy error\n",
    "    error = 0\n",
    "    # create many histograms\n",
    "    for i in range (100):\n",
    "        # compute the i-th histogram\n",
    "        dp_vector = dp.tools.histogram(input_list, bins = bins, epsilon = epsilon, range = bounds_range)[0]\n",
    "        # increase each time by the l1-norm of the accuracy error vector\n",
    "        error += kant(dp_vector, non_dp_vector)\n",
    "    # finally return the mean results of the 100 histograms\n",
    "    return error / 100"
   ]
  },
  {
   "cell_type": "markdown",
   "metadata": {},
   "source": [
    "### Histogram on annual earnings"
   ]
  },
  {
   "cell_type": "markdown",
   "metadata": {},
   "source": [
    "We are going to study our dataset data, by creating a histogram based on the annual earnings. Let's start with a normal hist, without differential privacy."
   ]
  },
  {
   "cell_type": "markdown",
   "metadata": {},
   "source": [
    "We are not going to let numpy define our bins for us. We want the non-DP histogram to be in the same scale as the DP one that we are going to define later, which is going to have as a maximum and minimum the bounds that we have already defined."
   ]
  },
  {
   "cell_type": "code",
   "execution_count": 27,
   "metadata": {},
   "outputs": [
    {
     "data": {
      "image/png": "[encoded data removed]",
      "text/plain": [
       "<Figure size 1440x432 with 2 Axes>"
      ]
     },
     "metadata": {
      "needs_background": "light"
     },
     "output_type": "display_data"
    }
   ],
   "source": [
    "# plot initialization\n",
    "fig, axs = plt.subplots(1, 2, sharey = True, figsize = (20,6))\n",
    "fig.subplots_adjust(hspace = 0.2)\n",
    "\n",
    "# create custom bins\n",
    "bins = np.linspace(0, 300000, 20)[1:]\n",
    "\n",
    "non_dp_hist, dummy = np.histogram(df['AnnualSalary'].tolist(), bins = bins)\n",
    "\n",
    "axs[0].hist(bins[:-1], len(non_dp_hist), weights = non_dp_hist)\n",
    "\n",
    "hist, dummy = accurate_histogram(df['AnnualSalary'].tolist(), bins, 1, annual_earnings_range)\n",
    "\n",
    "axs[1].hist(bins[:-1], len(hist), weights = hist)\n",
    "\n",
    "axs[0].set_title('Non-Private Histogram')\n",
    "\n",
    "axs[1].set_title('Private Histogram')\n",
    "\n",
    "plt.savefig('simple_hists')"
   ]
  },
  {
   "cell_type": "markdown",
   "metadata": {},
   "source": [
    "Let's now plot the differential private histogram regarding the same data."
   ]
  },
  {
   "cell_type": "code",
   "execution_count": 11,
   "metadata": {},
   "outputs": [
    {
     "data": {
      "text/plain": [
       "(array([2.2310e+04, 3.9459e+04, 2.8835e+04, 2.6799e+04, 1.1529e+04,\n",
       "        3.5800e+03, 1.4350e+03, 6.3800e+02, 2.4800e+02, 1.1300e+02,\n",
       "        8.2000e+01, 2.9000e+01, 1.5000e+01, 1.0000e+00, 1.3000e+01,\n",
       "        0.0000e+00, 2.0000e+00, 0.0000e+00]),\n",
       " array([ 15789.47368421,  30701.75438596,  45614.03508772,  60526.31578947,\n",
       "         75438.59649123,  90350.87719298, 105263.15789474, 120175.43859649,\n",
       "        135087.71929825, 150000.        , 164912.28070175, 179824.56140351,\n",
       "        194736.84210526, 209649.12280702, 224561.40350877, 239473.68421053,\n",
       "        254385.96491228, 269298.24561404, 284210.52631579]),\n",
       " <a list of 18 Patch objects>)"
      ]
     },
     "execution_count": 11,
     "metadata": {},
     "output_type": "execute_result"
    },
    {
     "data": {
      "image/png": "[encoded data removed]",
      "text/plain": [
       "<Figure size 432x288 with 1 Axes>"
      ]
     },
     "metadata": {
      "needs_background": "light"
     },
     "output_type": "display_data"
    }
   ],
   "source": [
    "hist, dummy = accurate_histogram(df['AnnualSalary'].tolist(), bins, 1, annual_earnings_range)\n",
    "\n",
    "plt.hist(bins[:-1], len(hist), weights = hist)"
   ]
  },
  {
   "cell_type": "markdown",
   "metadata": {},
   "source": [
    "The results are more than satisfying in the naked eye. This is probably due to the large dataset size: we are not able to locate small changes. In order to do so, we are going to check our error using the accuracy error function that we have defined."
   ]
  },
  {
   "cell_type": "code",
   "execution_count": 12,
   "metadata": {},
   "outputs": [
    {
     "name": "stdout",
     "output_type": "stream",
     "text": [
      "Eucledian distance: 14.81\n",
      "Kantorovic distance: 91.63448099819436\n"
     ]
    }
   ],
   "source": [
    "acc_err = accuracy_error(non_dp_hist, df['AnnualSalary'].tolist(), bins, 1, annual_earnings_range)\n",
    "\n",
    "\n",
    "kant_err = kant_error(non_dp_hist, df['AnnualSalary'].tolist(), bins, 1, annual_earnings_range)\n",
    "\n",
    "print(\"Eucledian distance: \" + str(acc_err) + \"\\nKantorovic distance: \" + str(kant_err))\n"
   ]
  },
  {
   "cell_type": "markdown",
   "metadata": {},
   "source": [
    "The euclidean distance error determines how many entries were wrongly classified in a bin (in average), when the differentially private query was run. So, less than 20 people out of 13.000 were wrongly classified, whereas their privacy was secured. This is quite a good trade-off!"
   ]
  },
  {
   "cell_type": "markdown",
   "metadata": {},
   "source": [
    "In order to decide on the best epsilon value, we are going to apply the same technique as shown in the epsilon measurements earlier. We are going to examine the behavior of the accuracy error when we increase the epsilon value."
   ]
  },
  {
   "cell_type": "code",
   "execution_count": 21,
   "metadata": {},
   "outputs": [
    {
     "data": {
      "image/png": "[encoded data removed]",
      "text/plain": [
       "<Figure size 864x576 with 1 Axes>"
      ]
     },
     "metadata": {
      "needs_background": "light"
     },
     "output_type": "display_data"
    }
   ],
   "source": [
    "# # plot initialization\n",
    "# fig, axs = plt.subplots(2, 1, sharey = True, figsize = (12,10))\n",
    "# fig.subplots_adjust(hspace = 0.2)\n",
    "\n",
    "# epsilon values we are going to run the query with\n",
    "epsilon = [i/10 + 0.2 for i in range (0,50)]\n",
    "# list of the accuracy results, empty in the beggining\n",
    "results = []\n",
    "kant_results = []\n",
    "# loop through different epsilons\n",
    "for e in epsilon:\n",
    "    res = accuracy_error(non_dp_hist, df['AnnualSalary'].tolist(), bins, e, annual_earnings_range)\n",
    "#     kant_res = kant_error(non_dp_hist, df['AnnualSalary'].tolist(), bins, e, annual_earnings_range)\n",
    "    results.append(res)\n",
    "#     kant_results.append(kant_res)\n",
    "\n",
    "# plot the result \n",
    "plt.figure(figsize = (12,8))\n",
    "\n",
    "plt.plot(epsilon, results,'r',label='Euclidean accuracy error')\n",
    "# axs[1].plot(epsilon, kant_results, label='Kantorovic accuracy error')\n",
    "\n",
    "# plt.set_title('Euclidean accuracy error')\n",
    "# axs[1].set_title('Kantorovich accuracy error')\n",
    "\n",
    "\n",
    "# axs[0].set_ylim((0, 100))\n",
    "# axs[1].set_ylim((0, 500))\n",
    "\n",
    "plt.legend()\n",
    "plt.xlabel('Epsilon')\n",
    "plt.ylabel('Accuracy Error')\n",
    "\n",
    "# axs[1].set_xlabel('Epsilon')\n",
    "# axs[1].set_ylabel('Accuracy Error')\n",
    "\n",
    "plt.savefig('hist_metrics.png')\n",
    "plt.show()"
   ]
  },
  {
   "cell_type": "markdown",
   "metadata": {},
   "source": [
    "We observe that the curve is rather normal according to both the theory and our previous experience: The biggest the epsilon gets, the smallest the accuracy error (but the higher the privacy loss).\n",
    "\n",
    "Even for very small epsilon values ($\\leq 1$), we observe that there are less than 100 out of 13.000 people wrongly classified in a bin.\n",
    "\n",
    "Of course, if we increase the bins(and thus the precision of the classification needed, the error will increase)."
   ]
  },
  {
   "cell_type": "markdown",
   "metadata": {},
   "source": [
    "### Histogram on gross earnings"
   ]
  },
  {
   "cell_type": "markdown",
   "metadata": {},
   "source": [
    "Last but not least, let's apply the same techniques in order to plot a differentially private histogram for the gross earnings of the employers. We are not going to study the accuracy results, as there will be very similar to the ones we have shown earlier."
   ]
  },
  {
   "cell_type": "code",
   "execution_count": 12,
   "metadata": {},
   "outputs": [
    {
     "data": {
      "text/plain": [
       "(array([3743., 3580., 2189.,  980.,  418.,  136.,   40.,    6.,    5.,\n",
       "           0.,    0.,    0.,    0.,    0.,    0.,    0.,    0.,    0.]),\n",
       " array([ 26315.78947368,  51169.59064327,  76023.39181287, 100877.19298246,\n",
       "        125730.99415205, 150584.79532164, 175438.59649123, 200292.39766082,\n",
       "        225146.19883041, 250000.        , 274853.80116959, 299707.60233918,\n",
       "        324561.40350877, 349415.20467836, 374269.00584795, 399122.80701754,\n",
       "        423976.60818713, 448830.40935673, 473684.21052632]),\n",
       " <a list of 18 Patch objects>)"
      ]
     },
     "execution_count": 12,
     "metadata": {},
     "output_type": "execute_result"
    },
    {
     "data": {
      "image/png": "[encoded data removed]",
      "text/plain": [
       "<Figure size 432x288 with 1 Axes>"
      ]
     },
     "metadata": {
      "needs_background": "light"
     },
     "output_type": "display_data"
    }
   ],
   "source": [
    "# create custom bins\n",
    "bins = np.linspace(0, 500000, 20)[1:]\n",
    "\n",
    "hist, dummy = accurate_histogram(df['Gross'].tolist(), bins, 1, annual_earnings_range)\n",
    "\n",
    "plt.hist(bins[:-1], len(hist), weights = hist)"
   ]
  },
  {
   "cell_type": "markdown",
   "metadata": {},
   "source": [
    "## Histogram queries in theory"
   ]
  },
  {
   "cell_type": "markdown",
   "metadata": {},
   "source": [
    "Based on `Dwork, C., Roth, A. (2014). The Algorithmic Foundations of Differential Privacy` the histogram queries are very high sensitivity queries, thus a slight change to the bounds could be critical for their result. \n",
    "\n",
    "The writers suggest that we use noise generated by the LaPlace mechanism, but with a slight change. In detail they suggest the following:\n",
    "\n",
    "\n",
    "\"_In the special (but common) case in which the queries are structurally disjoint we can do much better — we do not necessarily have to let the noise scale with the number of queries. An example is the histogram query. In this type of query the universe $N^X$ is partitioned into cells, and the query asks how many database elements lie in each of the cells. Because the cells are disjoint, the addition or removal of a single database element can affect the count in exactly one cell, and the difference to that cell is bounded by 1, so histogram queries have sensitivity 1 and can be answered by adding independent draws from $Lap(\\frac{1}{\\epsilon})$ to the true count in each cell._\""
   ]
  },
  {
   "cell_type": "markdown",
   "metadata": {},
   "source": [
    "## Conclusions"
   ]
  },
  {
   "cell_type": "markdown",
   "metadata": {},
   "source": [
    "After plotting a very basic histogram using `diffprivlib`'s functions, it is clear that the histograms created can be trusted for the extraction of statistical data. They seem to be accurate with an extremely naive selection of bounds, if the query is run multiple times."
   ]
  }
 ],
 "metadata": {
  "kernelspec": {
   "display_name": "Python 3",
   "language": "python",
   "name": "python3"
  },
  "language_info": {
   "codemirror_mode": {
    "name": "ipython",
    "version": 3
   },
   "file_extension": ".py",
   "mimetype": "text/x-python",
   "name": "python",
   "nbconvert_exporter": "python",
   "pygments_lexer": "ipython3",
   "version": "3.8.5"
  }
 },
 "nbformat": 4,
 "nbformat_minor": 4
}
