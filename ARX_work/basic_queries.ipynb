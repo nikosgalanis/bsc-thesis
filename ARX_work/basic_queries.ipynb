{
 "cells": [
  {
   "cell_type": "markdown",
   "metadata": {},
   "source": [
    "# Basic queries on a numerical dataset"
   ]
  },
  {
   "cell_type": "markdown",
   "metadata": {},
   "source": [
    "We are going to test the applicability of the already given ARX mechanisms on a numerical dataset. Our goal is to run basic queries, such as mean value, sum and max elements on the dataset's records. We are going to do that first by applying no DP at all, and then by using the API that is presented by ARX."
   ]
  },
  {
   "cell_type": "markdown",
   "metadata": {},
   "source": [
    "## The identity of the dataset:  NBA Players salaries\n"
   ]
  },
  {
   "cell_type": "markdown",
   "metadata": {},
   "source": [
    "The dataset contains sensitive data regarding NBA players' salaries from the year 1990 until today. It also states other info about them, such as their age, their current team and their position."
   ]
  },
  {
   "cell_type": "markdown",
   "metadata": {},
   "source": [
    "## Process of running the queries"
   ]
  },
  {
   "cell_type": "markdown",
   "metadata": {},
   "source": [
    "As we have earlier noted, the application of DP in ARX is rather complicated, let along the use that we are interested in: We want the output dataset to have numerical values in the earnings' column, in order to apply queries. "
   ]
  },
  {
   "cell_type": "markdown",
   "metadata": {},
   "source": [
    "For each column of the dataset, we have defined our own hierarchies. For every column except the `Salaries` one, this hierarchy is semantic, like the ones presented in our intro for age.\n",
    "\n",
    "For the salaries column, with it being our goal to analyze, we opt to use the construction mentioned in our solution in the intro. We created 10 layers, in order to give the algorithm the ability to anonymize the dataset without the values being converted to `*`.\n"
   ]
  },
  {
   "cell_type": "markdown",
   "metadata": {},
   "source": [
    "## Setup of the Mechanism"
   ]
  },
  {
   "cell_type": "markdown",
   "metadata": {},
   "source": [
    "In order to run our queries, we use the ARX API, which requires us to specify some variables in order to run Differential Privacy. Those variables are defined in the above Java code.\n",
    "\n",
    "```Java\n",
    "    EDDifferentialPrivacy criterion = new EDDifferentialPrivacy(2d, 1d / Rows);\n",
    "\n",
    "    ARXConfiguration config = ARXConfiguration.create();\n",
    "    config.addPrivacyModel(criterion);\n",
    "    config.setSuppressionLimit(1d);\n",
    "    config.setHeuristicSearchStepLimit(100);\n",
    "    ARXResult result = anonymizer.anonymize(data, config);\n",
    "```\n",
    "\n",
    "This way, our setup is ready, and now we must define a function in order to run this repetitively."
   ]
  },
  {
   "cell_type": "markdown",
   "metadata": {},
   "source": [
    "## Running the Queries"
   ]
  },
  {
   "cell_type": "markdown",
   "metadata": {},
   "source": [
    "Following the same principles as with the IBM library, we are going to run the DP query multiple times before reporting its value. We are going to do so, because the amount of noise generated can be extreme, and because of the low bounds of the heuristic search that we have set. We chose to run each query `1000` times, and then report the mean value of those runs as the result produced by the mechanism."
   ]
  },
  {
   "cell_type": "markdown",
   "metadata": {},
   "source": [
    "## Query types"
   ]
  },
  {
   "cell_type": "markdown",
   "metadata": {},
   "source": [
    "Because of the structure of the result of the ARX mechanism (a dataset containing numerical values), we can only run queries like __sum__ and __mean__. There is no point in running a min or max query: we already know that the result will not be accurate. Thus, we are going to try to run a __mean value__ numerical query in the anonymized dataset. The function we are using in order to run this typed of queries is the following:\n",
    "\n",
    "```Java\n",
    "\tprotected static double run_query(ARXResult data, int targetColumn) {\n",
    "\t\t// iterator that we are going to use to access the data\n",
    "\t\tfinal Iterator<String[]> itHandle = data.getOutput().iterator();\n",
    "\t\t\n",
    "\t\t// result of the query\n",
    "\t\tdouble result = 0d;\n",
    "\t\t// length of the dataset\n",
    "\t\tint totalRecords = 0;\n",
    "\t\t\n",
    "\t\t// get the first element of the column, thus the name of it, and ignore it\n",
    "\t\tString[] name = itHandle.next();\n",
    "\t\tif (name.length <= targetColumn) {\n",
    "\t\t\tSystem.out.println(\"Target column out of bounds\\n\");\n",
    "\t\t\treturn 0d;\n",
    "\t\t}\n",
    "\n",
    "\t\t// iterate through all the values in the dataset\n",
    "\t\twhile(itHandle.hasNext()) {\n",
    "\t\t\tString[] next = itHandle.next();\n",
    "\t\t\t// check that our target position is legal\n",
    "\t\t\tString string = next[targetColumn];\n",
    "\t\t\tif (!string.equals(\"*\")) {\n",
    "\t\t\t\tresult += Integer.parseInt(string);\t\t\n",
    "\t\t\t\ttotalRecords++;\t\t\t\t\n",
    "\t\t\t}\n",
    "\t\t}\n",
    "        // return the __mean__ of the dataset\n",
    "        return result / totalRecords;\n",
    "\t}\n",
    "\t\n",
    "\n",
    "```"
   ]
  },
  {
   "cell_type": "markdown",
   "metadata": {},
   "source": [
    "## Privacy Settings"
   ]
  },
  {
   "cell_type": "markdown",
   "metadata": {},
   "source": [
    "As mentioned in the SafePub paper(ref), in order to run the DP algorithm effectively, we must __set the delta parameter to be inversely proportional to the length of the dataset__. \n",
    "\n",
    "Also, in order for the algorithm to produce fine results, the __size of the dataset must be significant__."
   ]
  },
  {
   "cell_type": "markdown",
   "metadata": {},
   "source": [
    "## Running the query"
   ]
  },
  {
   "cell_type": "markdown",
   "metadata": {},
   "source": [
    "First off, let's check the result of the non-DP query, in order to know what to expect."
   ]
  },
  {
   "cell_type": "code",
   "execution_count": 3,
   "metadata": {},
   "outputs": [
    {
     "name": "stdout",
     "output_type": "stream",
     "text": [
      "2868981.323341682\n"
     ]
    }
   ],
   "source": [
    "import pandas as pd\n",
    "import numpy as np\n",
    "\n",
    "DATASET = \"./nba_salaries.csv\"\n",
    "df = pd.read_csv(DATASET)\n",
    "\n",
    "mean_wo_dp = np.mean(df['Salary'])\n",
    "print (mean_wo_dp)"
   ]
  },
  {
   "cell_type": "markdown",
   "metadata": {},
   "source": [
    "When running the query in the ARX API, using our own-defined functions, with the privacy variable epsilon having the value 1 we get the following result"
   ]
  },
  {
   "cell_type": "code",
   "execution_count": 16,
   "metadata": {},
   "outputs": [
    {
     "data": {
      "text/plain": [
       "2860215.692783765"
      ]
     },
     "execution_count": 16,
     "metadata": {},
     "output_type": "execute_result"
    }
   ],
   "source": [
    "2860215.692783765"
   ]
  },
  {
   "cell_type": "markdown",
   "metadata": {},
   "source": [
    "We observe that the query results, are somewhat close: We are in the range of millions of dollars, and the ARX mechanism only fails to approach the result by 8 thousand."
   ]
  },
  {
   "cell_type": "markdown",
   "metadata": {},
   "source": [
    "## Observations"
   ]
  },
  {
   "cell_type": "markdown",
   "metadata": {},
   "source": [
    "During our testings in the dataset using the ARX mechanism, we observe the following regarding its behavior in the DP queries:\n",
    "\n",
    " - The epsilon variable if raised above `2,5`, makes the algorithm extremely slow, to the point that it does not respond after minutes of execution. This makes sense, if we take into consideration that when epsilon increases, the accuracy gets better. Thus, the algorithm performs extreme searching techniques in order to find which records to suppress, resulting into slow execution\n",
    " - In order for the algorithm not to produce only `*` in our target column, we set each of the other columns as non sensitive in their definition.\n",
    " - As the epsilon values rise, the accuracy gets better, as it is supposed to be, according to the DP principles.\n",
    " - While the dataset has multiple columns, the algorithm usually fails to present all of them with anonymized values, and just reports `*` in each row. This could have been a result of the high `Heuristic Search Step Limit`, which was by default set to maximum. Despite us lowering its value, the phenomenon persists."
   ]
  },
  {
   "cell_type": "markdown",
   "metadata": {},
   "source": [
    "## Plots"
   ]
  },
  {
   "cell_type": "markdown",
   "metadata": {},
   "source": [
    "Let's now take a look at the accuracy of the query when changing the value of epsilon. We have conducted tests by using the above mentioned functions, and by each time altering the value of the epsilon parameter."
   ]
  },
  {
   "cell_type": "code",
   "execution_count": 12,
   "metadata": {},
   "outputs": [
    {
     "name": "stdout",
     "output_type": "stream",
     "text": [
      "[0.2, 0.4, 0.6, 0.8, 1.0, 1.2, 1.4, 1.6]\n"
     ]
    }
   ],
   "source": [
    "# epsilon values we are going to run the query with\n",
    "epsilon = [round(i/5 + 0.2, 4) for i in range (0,8)]\n",
    "print(epsilon)"
   ]
  },
  {
   "cell_type": "code",
   "execution_count": 14,
   "metadata": {},
   "outputs": [],
   "source": [
    "query_results = [2447509.4905001116, 2580120.4023217317, 2742689.1788798757, 2857291.001683826, \n",
    "                 2860215.692783765, 2870191.006886425, 2863787.4636055822, 2874546.3281011535]"
   ]
  },
  {
   "cell_type": "code",
   "execution_count": 15,
   "metadata": {},
   "outputs": [
    {
     "name": "stdout",
     "output_type": "stream",
     "text": [
      "[421471.8328415705, 288860.9210199504, 126292.1444618064, 11690.321657855995, 8765.630557917058, 1209.6835447428748, 5193.859736099839, 5565.004759471398]\n"
     ]
    },
    {
     "data": {
      "image/png": "[encoded data removed]",
      "text/plain": [
       "<Figure size 864x576 with 1 Axes>"
      ]
     },
     "metadata": {
      "needs_background": "light"
     },
     "output_type": "display_data"
    }
   ],
   "source": [
    "import matplotlib.pyplot as plt\n",
    "errors = [abs(mean_wo_dp - acc) for acc in query_results]\n",
    "\n",
    "print (errors)\n",
    "\n",
    "plt.figure(figsize = (12,8))\n",
    "\n",
    "plt.plot(epsilon, errors, label='Accuracy error')\n",
    "\n",
    "plt.legend(loc='best')\n",
    "\n",
    "plt.xlabel('Epsilon')\n",
    "plt.ylabel('Accuracy Error')\n",
    "plt.show()"
   ]
  },
  {
   "cell_type": "markdown",
   "metadata": {},
   "source": [
    "## Observations from the plot"
   ]
  },
  {
   "cell_type": "markdown",
   "metadata": {},
   "source": [
    "As we can see, the plot does not behave as expected, but it is in the right direction. We are used to seeing a more logarithmic-like plot, but here we observe that when the epsilon rises above `0.8`, the results are similar. We can not compare the results with the LaPlace noise distribution, because of the way that the results are produced. \n",
    "\n",
    "We generate the answers given by asking the query in the output dataset. Without its records being suppressed, the result dataset would have been perfect, because of the transformation of the data. However, when suppressing many records (nearly 10% each time), the result could be severely altered, and thus the error plot, as we saw, is quite unpredictable. "
   ]
  },
  {
   "cell_type": "markdown",
   "metadata": {},
   "source": [
    "## Conclusions"
   ]
  },
  {
   "cell_type": "markdown",
   "metadata": {},
   "source": [
    "While researching the ARX mechanism we came to the conclusion that it is for sure a whole different approach in Differential Privacy compared to the other libraries that we studied. With that being the case, it has some advantages and some disadvantages. Its main advantages are the following:\n",
    "\n",
    " - The result of the mechanism is a handy dataset that the user can handle in multiple ways and gain more information than just the result of a query.\n",
    " - The result can be iterated, thus giving the option to the user to run the query in a smaller subset of the rows, while it being differential private.\n",
    " \n",
    "On the other hand, the main disadvantages are:\n",
    " \n",
    " \n",
    " - The result can be misleading, because of the big accuracy error produced\n",
    " - The algorithm requires a rather big dataset in order to run properly, while other libraries perform just fine with smaller datasets.\n",
    " - The algorithm is difficult to implement, as you have to create a self-made function for every query, and moreover tune many parameters if you want to run differential privacy."
   ]
  }
 ],
 "metadata": {
  "kernelspec": {
   "display_name": "Python 3",
   "language": "python",
   "name": "python3"
  },
  "language_info": {
   "codemirror_mode": {
    "name": "ipython",
    "version": 3
   },
   "file_extension": ".py",
   "mimetype": "text/x-python",
   "name": "python",
   "nbconvert_exporter": "python",
   "pygments_lexer": "ipython3",
   "version": "3.8.5"
  }
 },
 "nbformat": 4,
 "nbformat_minor": 4
}
