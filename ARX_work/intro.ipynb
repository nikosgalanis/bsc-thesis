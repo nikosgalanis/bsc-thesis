{
 "cells": [
  {
   "cell_type": "markdown",
   "metadata": {},
   "source": [
    "# ARX Data Anonymization Tool"
   ]
  },
  {
   "cell_type": "markdown",
   "metadata": {},
   "source": [
    "ARX is a tool for data anonymization, that in general, takes a dataset as an input, applies different privacy models, and produces an anonymized version of this dataset, thus offering privacy to its members.\n",
    "\n",
    "At its core, ARX uses a highly efficient globally-optimal search algorithm for transforming data with full-domain generalization and record suppression. The transformation of attribute values is implemented through domain generalization hierarchies, which represent valid transformations that can be applied to individual-level values."
   ]
  },
  {
   "cell_type": "markdown",
   "metadata": {},
   "source": [
    "## Classic Privacy Models"
   ]
  },
  {
   "cell_type": "markdown",
   "metadata": {},
   "source": [
    "The ARX tool offers standard privacy models that are tested in theory and are widely use to ensure anonymity given a plain dataset."
   ]
  },
  {
   "cell_type": "markdown",
   "metadata": {},
   "source": [
    "### k-Anonymity"
   ]
  },
  {
   "cell_type": "markdown",
   "metadata": {},
   "source": [
    "This well-known privacy model that aims at protecting datasets from re-identification in the prosecutor model. A dataset is $k$-anonymous if each record cannot be distinguished from at least $k-1$ other records regarding the quasi-identifiers. Each group of indistinguishable records forms a so-called equivalence class. "
   ]
  },
  {
   "cell_type": "markdown",
   "metadata": {},
   "source": [
    "### Average risk\n"
   ]
  },
  {
   "cell_type": "markdown",
   "metadata": {},
   "source": [
    "This privacy model can be used for protecting datasets from re-identification in the marketer model by enforcing a threshold on the average re-identification risk of the records. By combining the model with k-anonymity, a privacy model called strict-average risk can be constructed."
   ]
  },
  {
   "cell_type": "markdown",
   "metadata": {},
   "source": [
    "### ℓ-Diversity"
   ]
  },
  {
   "cell_type": "markdown",
   "metadata": {},
   "source": [
    "This privacy model can be used to protect data against attribute disclosure by ensuring that each sensitive attribute has at least $ℓ$ \"well represented\" values in each equivalence class. Different variants, which implement different measures of diversity, have been proposed."
   ]
  },
  {
   "cell_type": "markdown",
   "metadata": {},
   "source": [
    "## Differential Privacy"
   ]
  },
  {
   "cell_type": "markdown",
   "metadata": {},
   "source": [
    "Given the strict definition of DP, we know that we must access the dataset through various queries, given a privacy budget that we must not exceed. The ARX team, proposes a quite different application of DP in their tool, where privacy protection is not considered a property of a dataset, but a property of a data processing method.\n",
    "\n",
    "DP guarantees that the probability of any possible output of the anonymization process does not change \"by much\" if data of an individual is added to or removed from input data.\n",
    "\n",
    "In order to implement Differential Privacy, ARX uses the __SafePub algorithm__"
   ]
  },
  {
   "cell_type": "markdown",
   "metadata": {},
   "source": [
    "### Concepts used"
   ]
  },
  {
   "cell_type": "markdown",
   "metadata": {},
   "source": [
    "__Random Sampling__: A probability sampling method is any method of sampling that utilizes some form of random selection. In order to have a random selection method, you must set up some process or procedure that assures that the different units in your population have equal probabilities of being chosen. In SafePub, such sampling happens with probability $\\beta$\n",
    "\n",
    "__Attribute Generalization__: In SafePub, generalization is achieved through user-defined hierarchies, which describe rules for replacing values with more general but semantically consistent values on increasing levels of generalization. \n",
    "\n",
    "__Record Suppression__: Deletion of a specific row on the input dataset."
   ]
  },
  {
   "cell_type": "markdown",
   "metadata": {},
   "source": [
    "### Theorem"
   ]
  },
  {
   "cell_type": "markdown",
   "metadata": {},
   "source": [
    "__Random sampling with probability $\\beta$ followed by attribute generalization and the suppression of\n",
    "every record which appears less than k times__ satisfies $(\\epsilon, \\delta)$ differential privacy for every $\\epsilon \\geq -ln(1-\\beta)$ with \n",
    "$$\\delta = \\max_{n:n \\geq n_m} \\sum_{j>\\gamma_n}^{n}f(j;n,\\beta)$$\n",
    "\n",
    "where $n_m = \\frac{k}{\\gamma} - 1$, $\\gamma = \\frac{e^\\epsilon-1+\\beta}{e^\\epsilon}$ and $f(j;n,\\beta) = {n \\choose  j} \\beta^j(1-\\beta)^{n-j}$"
   ]
  },
  {
   "cell_type": "markdown",
   "metadata": {},
   "source": [
    "## Techniques"
   ]
  },
  {
   "cell_type": "markdown",
   "metadata": {},
   "source": [
    "In order to achieve attribute generalization, ARX uses the so called __hierarchies__. They are either imported from a csv, or being hard-coded into the API, and they are used in order to generalize a sensitive field. An example is given below. The subject to generalize is the age of a person. Let's see the values as they proceed through generalization."
   ]
  },
  {
   "attachments": {},
   "cell_type": "markdown",
   "metadata": {},
   "source": [
    "1<sup>st</sup> level | 2<sup>nd</sup> level | 3<sup>rd</sup> level | 4<sup>th</sup> level | 5<sup>th</sup> level\n",
    "--- | ----- | ------ |----- | --\n",
    "1 |\t0-4 | 0-9| 0-19\t|*\n",
    "2 |\t0-4 | 0-9| \t0-19|\t*\n",
    "3 |\t0-4 |\t0-9|\t0-19|\t*\n",
    "4 |\t0-4 |\t0-9|\t0-19|\t*\n",
    "5 |\t0-4 |\t0-9|\t0-19|\t*\n",
    "6 |\t5-9 |\t0-9|\t0-19|\t*\n",
    "7 |\t5-9 |\t0-9|\t0-19|\t*\n",
    "8 |\t5-9 |\t0-9|\t0-19|\t*\n",
    "9 |\t5-9 |\t0-9|\t0-19|\t*\n",
    "10| 5-9\t| 0-9|\t0-19\t|*\n",
    "11|\t10-14 |\t10-19|\t0-19|\t*\n",
    "12|\t10-14 |\t10-19|\t0-19|\t*\n",
    "13|\t10-14 |\t10-19|\t0-19|\t*\n",
    "14|\t10-14 |\t10-19|\t0-19|\t*\n",
    "15|\t10-14 |\t10-19|\t0-19|\t*\n",
    "16|\t15-19 |\t10-19|\t0-19|\t*\n",
    "17|\t15-19 |\t10-19|\t0-19|\t*\n",
    "18|\t15-19 |\t10-19|\t0-19|\t*\n",
    "19|\t15-19 |\t10-19|\t0-19|\t*\n",
    "20|\t15-19 |\t10-19|\t0-19|\t*\n",
    "21|\t20-24 |\t20-29|\t20-39|\t*"
   ]
  },
  {
   "cell_type": "markdown",
   "metadata": {},
   "source": [
    "## Testings"
   ]
  },
  {
   "cell_type": "markdown",
   "metadata": {},
   "source": [
    "In order to test the accuracy of the models used by ARX, we are going to run simple np python queries, on the datasets produced by the anonymization process. We want to eliminate the probability of extremely high noise generation, thus we are going to run the anonymization tool multiple times, and the output dataset will be constructed by the mean values of the fields."
   ]
  },
  {
   "cell_type": "markdown",
   "metadata": {},
   "source": [
    "### Problems we faced"
   ]
  },
  {
   "cell_type": "markdown",
   "metadata": {},
   "source": [
    "As show on the above matrix, ARX hierarchies tend to treat every type of value as a string, in order to replace it with a interval. This is not  desirable when applying the testings we mentioned. Thus, we had to come up with a better solution of defining hierarchies. The ARX GUI provides a wizard that gives a variety of choices so the user can easily create a hierarchy for plenty data types.\n",
    "\n",
    "Given the help from Fabian Prasser, we opted to treat the integer values as numbers, and in each level apply __TODO............__"
   ]
  }
 ],
 "metadata": {
  "kernelspec": {
   "display_name": "Python 3",
   "language": "python",
   "name": "python3"
  },
  "language_info": {
   "codemirror_mode": {
    "name": "ipython",
    "version": 3
   },
   "file_extension": ".py",
   "mimetype": "text/x-python",
   "name": "python",
   "nbconvert_exporter": "python",
   "pygments_lexer": "ipython3",
   "version": "3.8.5"
  }
 },
 "nbformat": 4,
 "nbformat_minor": 4
}
